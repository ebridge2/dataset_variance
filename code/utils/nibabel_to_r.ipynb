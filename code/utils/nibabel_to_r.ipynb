{
 "cells": [
  {
   "cell_type": "code",
   "execution_count": 1,
   "metadata": {
    "collapsed": true
   },
   "outputs": [],
   "source": [
    "import nibabel as nb\n",
    "import numpy as np\n",
    "import os\n",
    "\n",
    "from rpy2.robjects import r\n",
    "import rpy2.robjects as robj\n",
    "from rpy2.robjects.numpy2ri import numpy2ri\n",
    "from scipy.stats import gaussian_kde\n"
   ]
  },
  {
   "cell_type": "code",
   "execution_count": 2,
   "metadata": {
    "collapsed": false
   },
   "outputs": [
    {
     "data": {
      "text/plain": [
       "[['./data/BNU1/BNU1_0025864_1_DTI.bval',\n",
       "  './data/BNU1/BNU1_0025864_1_DTI.bvec',\n",
       "  './data/BNU1/BNU1_0025864_1_DTI.nii.gz'],\n",
       " ['./data/BNU3/BNU3_0027055_1_DTI.bval',\n",
       "  './data/BNU3/BNU3_0027055_1_DTI.bvec',\n",
       "  './data/BNU3/BNU3_0027055_1_DTI.nii.gz'],\n",
       " ['./data/HCP500/HCP500_140117_96LR_DTI.bval',\n",
       "  './data/HCP500/HCP500_140117_96LR_DTI.bvec',\n",
       "  './data/HCP500/HCP500_140117_96LR_DTI.nii.gz'],\n",
       " ['./data/Jung2015/Jung2015_M87100374_1_DTI.bval',\n",
       "  './data/Jung2015/Jung2015_M87100374_1_DTI.bvec',\n",
       "  './data/Jung2015/Jung2015_M87100374_1_DTI.nii.gz'],\n",
       " ['./data/KKI2009/KKI2009_113_1_DTI.bval',\n",
       "  './data/KKI2009/KKI2009_113_1_DTI.bvec',\n",
       "  './data/KKI2009/KKI2009_113_1_DTI.nii'],\n",
       " ['./data/MRN114/MRN114_M87102217_1_DTI.bval',\n",
       "  './data/MRN114/MRN114_M87102217_1_DTI.bvec',\n",
       "  './data/MRN114/MRN114_M87102217_1_DTI.nii'],\n",
       " ['./data/NKI1/NKI24_0021001_1_DTI.bval',\n",
       "  './data/NKI1/NKI24_0021001_1_DTI.grad',\n",
       "  './data/NKI1/NKI24_0021001_1_DTI.nii'],\n",
       " ['./data/NKIENH/NKIENH_0101084_1_DTI.bval',\n",
       "  './data/NKIENH/NKIENH_0101084_1_DTI.bvec',\n",
       "  './data/NKIENH/NKIENH_0101084_1_DTI.nii'],\n",
       " ['./data/SWU4/SWU4_0025824_1_DTI.bval',\n",
       "  './data/SWU4/SWU4_0025824_1_DTI.bvec',\n",
       "  './data/SWU4/SWU4_0025824_1_DTI.nii.gz']]"
      ]
     },
     "execution_count": 2,
     "metadata": {},
     "output_type": "execute_result"
    }
   ],
   "source": [
    "datasets = list(('./data/BNU1', './data/BNU3', './data/HCP500', './data/Jung2015',\n",
    "                 './data/KKI2009', './data/MRN114', './data/NKI1', './data/NKIENH',\n",
    "                 './data/SWU4'))\n",
    "# datasets = 'HCP500'#, 'Jung2015', 'MRN114', 'NKI1', 'NKIENH', 'SWU4'))\n",
    "files = list()\n",
    "for f in datasets:\n",
    "    files.append([f + '/' + single for single in os.listdir(f)])\n",
    "files"
   ]
  },
  {
   "cell_type": "code",
   "execution_count": 5,
   "metadata": {
    "collapsed": false
   },
   "outputs": [
    {
     "name": "stdout",
     "output_type": "stream",
     "text": [
      "BNU1... loading data... getting density... converting to r... done!\n",
      "BNU3... loading data... getting density... converting to r... done!\n",
      "HCP500... loading data... getting density... converting to r... done!\n",
      "Jung2015... loading data... getting density... converting to r... done!\n",
      "KKI2009... loading data... getting density... converting to r... done!\n",
      "MRN114... loading data... getting density... converting to r... done!\n",
      "NKI24... loading data... getting density... converting to r... done!\n",
      "NKIENH... loading data... getting density... converting to r... done!\n",
      "SWU4... loading data... getting density... converting to r... done!\n"
     ]
    },
    {
     "data": {
      "text/plain": [
       "rpy2.rinterface.NULL"
      ]
     },
     "execution_count": 5,
     "metadata": {},
     "output_type": "execute_result"
    }
   ],
   "source": [
    "# myl = r.list()\n",
    "for idx, scan in enumerate(files):\n",
    "    basename = os.path.basename(scan[0]).split('_')[0]\n",
    "    outfile = basename+'med.gzip'\n",
    "    print basename + \"...\",\n",
    "    bval = np.loadtxt(scan[0])\n",
    "    bval[np.where(bval==np.min(bval))] = 0\n",
    "    print \"loading data...\",\n",
    "    im = nb.load(scan[2])\n",
    "    b0_loc = np.where(bval==0)[0][0]\n",
    "    dti = im.get_data()[:,:,:,b0_loc]\n",
    "    \n",
    "#     ro = numpy2ri(np.ravel(dti+1))\n",
    "    print \"getting density...\",\n",
    "    density = gaussian_kde(np.ravel(dti+1))\n",
    "    xs = np.linspace(0,2000,10)\n",
    "    ro = numpy2ri(density(xs))\n",
    "    print \"converting to r...\",\n",
    "    xo = numpy2ri(xs)\n",
    "    rr = robj.Matrix(ro)\n",
    "    xx = robj.Matrix(xo)\n",
    "    if idx is 0:\n",
    "        myl = r.list(**{basename:rr})\n",
    "        myx = r.list(**{basename:xx})\n",
    "    else:\n",
    "        myl = r.c(myl, r.list(**{basename:rr}))\n",
    "        myx = r.c(myx, r.list(**{basename:xx}))\n",
    "    print \"done!\"\n",
    "\n",
    "r.assign('myl', myl)\n",
    "r.assign('myx', myx)\n",
    "# robj.DataFrame(rr)\n",
    "r(\"save(myl, myx, file='\"+\"myout3.gzip\"+\"', compress=TRUE)\")"
   ]
  },
  {
   "cell_type": "code",
   "execution_count": 12,
   "metadata": {
    "collapsed": false
   },
   "outputs": [
    {
     "name": "stdout",
     "output_type": "stream",
     "text": [
      "0.509941550855\n"
     ]
    },
    {
     "data": {
      "image/png": "[encoded data removed]",
      "text/plain": [
       "<matplotlib.figure.Figure at 0x11265c050>"
      ]
     },
     "metadata": {},
     "output_type": "display_data"
    },
    {
     "name": "stdout",
     "output_type": "stream",
     "text": [
      "[ 0.00151687  0.00155688  0.00159783 ...,  0.00182604  0.00177924\n",
      "  0.00173352]\n"
     ]
    }
   ],
   "source": [
    "import matplotlib.pyplot as plt\n",
    "%matplotlib inline\n",
    "\n",
    "import numpy as np\n",
    "data = [1.5]*7 + [2.5]*2 + [3.5]*8 + [4.5]*3 + [5.5]*1 + [6.5]*8\n",
    "density = gaussian_kde(data)\n",
    "print density.covariance_factor()\n",
    "xs = np.linspace(0,8,2000)\n",
    "density.covariance_factor = lambda : .25\n",
    "density._compute_covariance()\n",
    "plt.plot(xs,density(xs))\n",
    "plt.show()\n",
    "print density(xs)"
   ]
  },
  {
   "cell_type": "code",
   "execution_count": 42,
   "metadata": {
    "collapsed": false
   },
   "outputs": [
    {
     "data": {
      "text/plain": [
       "dtype('<i2')"
      ]
     },
     "execution_count": 42,
     "metadata": {},
     "output_type": "execute_result"
    }
   ],
   "source": [
    "dti.dtype"
   ]
  },
  {
   "cell_type": "code",
   "execution_count": 40,
   "metadata": {
    "collapsed": false
   },
   "outputs": [
    {
     "ename": "ValueError",
     "evalue": "data type <type 'numpy.int16'> not inexact",
     "output_type": "error",
     "traceback": [
      "\u001b[0;31m---------------------------------------------------------------------------\u001b[0m",
      "\u001b[0;31mValueError\u001b[0m                                Traceback (most recent call last)",
      "\u001b[0;32m<ipython-input-40-2b0f365aa3b5>\u001b[0m in \u001b[0;36m<module>\u001b[0;34m()\u001b[0m\n\u001b[0;32m----> 1\u001b[0;31m \u001b[0mstr\u001b[0m\u001b[0;34m(\u001b[0m\u001b[0mnp\u001b[0m\u001b[0;34m.\u001b[0m\u001b[0mfinfo\u001b[0m\u001b[0;34m(\u001b[0m\u001b[0mdti\u001b[0m\u001b[0;34m.\u001b[0m\u001b[0mdtype\u001b[0m\u001b[0;34m)\u001b[0m\u001b[0;34m.\u001b[0m\u001b[0mmax\u001b[0m\u001b[0;34m)\u001b[0m\u001b[0;34m\u001b[0m\u001b[0m\n\u001b[0m",
      "\u001b[0;32m/usr/local/lib/python2.7/site-packages/numpy/core/getlimits.pyc\u001b[0m in \u001b[0;36m__new__\u001b[0;34m(cls, dtype)\u001b[0m\n\u001b[1;32m    108\u001b[0m             \u001b[0mdtype\u001b[0m \u001b[0;34m=\u001b[0m \u001b[0mnewdtype\u001b[0m\u001b[0;34m\u001b[0m\u001b[0m\n\u001b[1;32m    109\u001b[0m         \u001b[0;32mif\u001b[0m \u001b[0;32mnot\u001b[0m \u001b[0missubclass\u001b[0m\u001b[0;34m(\u001b[0m\u001b[0mdtype\u001b[0m\u001b[0;34m,\u001b[0m \u001b[0mnumeric\u001b[0m\u001b[0;34m.\u001b[0m\u001b[0minexact\u001b[0m\u001b[0;34m)\u001b[0m\u001b[0;34m:\u001b[0m\u001b[0;34m\u001b[0m\u001b[0m\n\u001b[0;32m--> 110\u001b[0;31m             \u001b[0;32mraise\u001b[0m \u001b[0mValueError\u001b[0m\u001b[0;34m(\u001b[0m\u001b[0;34m\"data type %r not inexact\"\u001b[0m \u001b[0;34m%\u001b[0m \u001b[0;34m(\u001b[0m\u001b[0mdtype\u001b[0m\u001b[0;34m)\u001b[0m\u001b[0;34m)\u001b[0m\u001b[0;34m\u001b[0m\u001b[0m\n\u001b[0m\u001b[1;32m    111\u001b[0m         \u001b[0mobj\u001b[0m \u001b[0;34m=\u001b[0m \u001b[0mcls\u001b[0m\u001b[0;34m.\u001b[0m\u001b[0m_finfo_cache\u001b[0m\u001b[0;34m.\u001b[0m\u001b[0mget\u001b[0m\u001b[0;34m(\u001b[0m\u001b[0mdtype\u001b[0m\u001b[0;34m,\u001b[0m \u001b[0mNone\u001b[0m\u001b[0;34m)\u001b[0m\u001b[0;34m\u001b[0m\u001b[0m\n\u001b[1;32m    112\u001b[0m         \u001b[0;32mif\u001b[0m \u001b[0mobj\u001b[0m \u001b[0;32mis\u001b[0m \u001b[0;32mnot\u001b[0m \u001b[0mNone\u001b[0m\u001b[0;34m:\u001b[0m\u001b[0;34m\u001b[0m\u001b[0m\n",
      "\u001b[0;31mValueError\u001b[0m: data type <type 'numpy.int16'> not inexact"
     ]
    }
   ],
   "source": [
    "str(np.finfo(dti.dtype).max)"
   ]
  },
  {
   "cell_type": "code",
   "execution_count": 41,
   "metadata": {
    "collapsed": false
   },
   "outputs": [
    {
     "ename": "ValueError",
     "evalue": "data type <type 'numpy.int16'> not inexact",
     "output_type": "error",
     "traceback": [
      "\u001b[0;31m---------------------------------------------------------------------------\u001b[0m",
      "\u001b[0;31mValueError\u001b[0m                                Traceback (most recent call last)",
      "\u001b[0;32m<ipython-input-41-c3f16176a65e>\u001b[0m in \u001b[0;36m<module>\u001b[0;34m()\u001b[0m\n\u001b[0;32m----> 1\u001b[0;31m \u001b[0mnp\u001b[0m\u001b[0;34m.\u001b[0m\u001b[0mfinfo\u001b[0m\u001b[0;34m(\u001b[0m\u001b[0mdti\u001b[0m\u001b[0;34m.\u001b[0m\u001b[0mdtype\u001b[0m\u001b[0;34m)\u001b[0m\u001b[0;34m\u001b[0m\u001b[0m\n\u001b[0m",
      "\u001b[0;32m/usr/local/lib/python2.7/site-packages/numpy/core/getlimits.pyc\u001b[0m in \u001b[0;36m__new__\u001b[0;34m(cls, dtype)\u001b[0m\n\u001b[1;32m    108\u001b[0m             \u001b[0mdtype\u001b[0m \u001b[0;34m=\u001b[0m \u001b[0mnewdtype\u001b[0m\u001b[0;34m\u001b[0m\u001b[0m\n\u001b[1;32m    109\u001b[0m         \u001b[0;32mif\u001b[0m \u001b[0;32mnot\u001b[0m \u001b[0missubclass\u001b[0m\u001b[0;34m(\u001b[0m\u001b[0mdtype\u001b[0m\u001b[0;34m,\u001b[0m \u001b[0mnumeric\u001b[0m\u001b[0;34m.\u001b[0m\u001b[0minexact\u001b[0m\u001b[0;34m)\u001b[0m\u001b[0;34m:\u001b[0m\u001b[0;34m\u001b[0m\u001b[0m\n\u001b[0;32m--> 110\u001b[0;31m             \u001b[0;32mraise\u001b[0m \u001b[0mValueError\u001b[0m\u001b[0;34m(\u001b[0m\u001b[0;34m\"data type %r not inexact\"\u001b[0m \u001b[0;34m%\u001b[0m \u001b[0;34m(\u001b[0m\u001b[0mdtype\u001b[0m\u001b[0;34m)\u001b[0m\u001b[0;34m)\u001b[0m\u001b[0;34m\u001b[0m\u001b[0m\n\u001b[0m\u001b[1;32m    111\u001b[0m         \u001b[0mobj\u001b[0m \u001b[0;34m=\u001b[0m \u001b[0mcls\u001b[0m\u001b[0;34m.\u001b[0m\u001b[0m_finfo_cache\u001b[0m\u001b[0;34m.\u001b[0m\u001b[0mget\u001b[0m\u001b[0;34m(\u001b[0m\u001b[0mdtype\u001b[0m\u001b[0;34m,\u001b[0m \u001b[0mNone\u001b[0m\u001b[0;34m)\u001b[0m\u001b[0;34m\u001b[0m\u001b[0m\n\u001b[1;32m    112\u001b[0m         \u001b[0;32mif\u001b[0m \u001b[0mobj\u001b[0m \u001b[0;32mis\u001b[0m \u001b[0;32mnot\u001b[0m \u001b[0mNone\u001b[0m\u001b[0;34m:\u001b[0m\u001b[0;34m\u001b[0m\u001b[0m\n",
      "\u001b[0;31mValueError\u001b[0m: data type <type 'numpy.int16'> not inexact"
     ]
    }
   ],
   "source": [
    "np.finfo(dti.dtype)"
   ]
  },
  {
   "cell_type": "code",
   "execution_count": 63,
   "metadata": {
    "collapsed": false
   },
   "outputs": [
    {
     "data": {
      "text/plain": [
       "rpy2.rinterface.NULL"
      ]
     },
     "execution_count": 63,
     "metadata": {},
     "output_type": "execute_result"
    }
   ],
   "source": [
    "r.assign('myl', myl)\n",
    "r.assign('myx', myx)\n",
    "# robj.DataFrame(rr)\n",
    "r(\"save(myl, myx, file='\"+\"myout2.gzip\"+\"', compress=TRUE)\")"
   ]
  },
  {
   "cell_type": "code",
   "execution_count": 65,
   "metadata": {
    "collapsed": false
   },
   "outputs": [
    {
     "data": {
      "text/plain": [
       "array([  1.00230547e+10,   1.00276720e+12,   1.00322914e+14, ...,\n",
       "                    inf,              inf,              inf])"
      ]
     },
     "execution_count": 65,
     "metadata": {},
     "output_type": "execute_result"
    }
   ],
   "source": [
    "np.logspace(0,20000,10000)"
   ]
  },
  {
   "cell_type": "code",
   "execution_count": null,
   "metadata": {
    "collapsed": true
   },
   "outputs": [],
   "source": []
  }
 ],
 "metadata": {
  "kernelspec": {
   "display_name": "Python 2",
   "language": "python",
   "name": "python2"
  },
  "language_info": {
   "codemirror_mode": {
    "name": "ipython",
    "version": 2
   },
   "file_extension": ".py",
   "mimetype": "text/x-python",
   "name": "python",
   "nbconvert_exporter": "python",
   "pygments_lexer": "ipython2",
   "version": "2.7.11"
  }
 },
 "nbformat": 4,
 "nbformat_minor": 0
}
