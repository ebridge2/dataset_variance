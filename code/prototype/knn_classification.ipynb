{
 "cells": [
  {
   "cell_type": "markdown",
   "metadata": {},
   "source": [
    "# K-NearestNeighbour Sex Classification"
   ]
  },
  {
   "cell_type": "markdown",
   "metadata": {},
   "source": [
    "## Initial Setup"
   ]
  },
  {
   "cell_type": "markdown",
   "metadata": {},
   "source": [
    "### Imports"
   ]
  },
  {
   "cell_type": "code",
   "execution_count": 1,
   "metadata": {
    "collapsed": false
   },
   "outputs": [],
   "source": [
    "import numpy as np\n",
    "import networkx as nx\n",
    "import scipy as sp\n",
    "import matplotlib.pyplot as plt\n",
    "import os\n",
    "import csv\n",
    "\n",
    "from collections import OrderedDict\n",
    "from sklearn import cross_validation\n",
    "from sklearn.preprocessing import normalize\n",
    "from sklearn.cross_validation import LeaveOneOut, LeaveOneLabelOut\n",
    "from sklearn.neighbors import KNeighborsClassifier\n",
    "from sklearn.neighbors import KNeighborsRegressor\n",
    "from scipy.linalg import svd\n",
    "\n",
    "%matplotlib inline\n",
    "\n",
    "font = {'weight' : 'bold',\n",
    "        'size'   : 18}\n",
    "\n",
    "import matplotlib\n",
    "matplotlib.rc('font', **font)\n",
    "\n",
    "np.random.seed(12345678)  # for reproducibility, set random seed"
   ]
  },
  {
   "cell_type": "markdown",
   "metadata": {},
   "source": [
    "### Getting File Lists"
   ]
  },
  {
   "cell_type": "code",
   "execution_count": 2,
   "metadata": {
    "collapsed": false
   },
   "outputs": [
    {
     "name": "stdout",
     "output_type": "stream",
     "text": [
      "Datasets: KKI2009 (42), MRN114 (114), SWU4 (454), BNU1 (81), BNU3 (46)\n",
      "Total Subjects: 737\n"
     ]
    }
   ],
   "source": [
    "# Initializing dataset names\n",
    "dataset_names = list(('KKI2009', 'MRN114', 'SWU4', 'BNU1', 'BNU3'))\n",
    "# dataset_names = list(('KKI2009', 'MRN114', 'BNU1', 'BNU3'))\n",
    "\n",
    "basepath = '/Users/gkiar/code/classes/upward-spiral/grelliam/data/'\n",
    "atlas = 'desikan'\n",
    "dir_names = [basepath + '/' + atlas + '/' + d for d in dataset_names]\n",
    "\n",
    "#  Crawls directories and creates a dictionary entry of file names for each\n",
    "#  dataset which we plan to process.\n",
    "fs = OrderedDict()\n",
    "for idx, dd in enumerate(dataset_names):\n",
    "    fs[dd] = [root + \"/\" + fl for root, dirs, files in os.walk(dir_names[idx])\n",
    "              for fl in files if fl.endswith(\".graphml\")]\n",
    "\n",
    "ps = {os.path.splitext(os.path.basename(fl))[0] : root + \"/\" + fl\n",
    "      for root, dirs, files in os.walk(basepath+'phenotypes')\n",
    "      for fl in files if fl.endswith(\".csv\") }\n",
    "\n",
    "print \"Datasets: \" + \", \".join([fkey + ' (' + str(len(fs[fkey])) + ')'\n",
    "                                for fkey in fs])\n",
    "print \"Total Subjects: %d\" % (sum([len(fs[key]) for key in fs]))\n"
   ]
  },
  {
   "cell_type": "markdown",
   "metadata": {},
   "source": [
    "### Declaring Graph Read Helper Functions"
   ]
  },
  {
   "cell_type": "code",
   "execution_count": 3,
   "metadata": {
    "collapsed": true
   },
   "outputs": [],
   "source": [
    "def loadGraphs(filenames, verb=False):\n",
    "    \"\"\"\n",
    "    Given a list of files, returns a dictionary of graphs\n",
    "\n",
    "    Required parameters:\n",
    "        filenames:\n",
    "            - List of filenames for graphs\n",
    "    Optional parameters:\n",
    "        verb:\n",
    "            - Toggles verbose output statements\n",
    "    \"\"\"\n",
    "    #  Initializes empty dictionary\n",
    "    gstruct = OrderedDict()\n",
    "    for idx, files in enumerate(filenames):\n",
    "        if verb:\n",
    "            print \"Loading: \" + files\n",
    "        #  Adds graphs to dictionary with key being filename\n",
    "        fname = os.path.basename(files)\n",
    "        gstruct[fname] = nx.read_graphml(files)\n",
    "    return gstruct\n",
    "\n",
    "def constructGraphDict(names, fs, verb=False):\n",
    "    \"\"\"\n",
    "    Given a set of files and a directory to put things, loads graphs.\n",
    "\n",
    "    Required parameters:\n",
    "        names:\n",
    "            - List of names of the datasets\n",
    "        fs:\n",
    "            - Dictionary of lists of files in each dataset\n",
    "    Optional parameters:\n",
    "        verb:\n",
    "            - Toggles verbose output statements\n",
    "    \"\"\"\n",
    "    #  Loads graphs into memory for all datasets\n",
    "    graphs = OrderedDict()\n",
    "    for idx, name in enumerate(names):\n",
    "        if verb:\n",
    "            print \"Loading Dataset: \" + name\n",
    "        # The key for the dictionary of graphs is the dataset name\n",
    "        graphs[name] = loadGraphs(fs[name], verb=verb)\n",
    "    return graphs"
   ]
  },
  {
   "cell_type": "markdown",
   "metadata": {},
   "source": [
    "### Reading Graphs"
   ]
  },
  {
   "cell_type": "code",
   "execution_count": 4,
   "metadata": {
    "collapsed": false
   },
   "outputs": [],
   "source": [
    "graphs = constructGraphDict(dataset_names, fs, verb=False)"
   ]
  },
  {
   "cell_type": "markdown",
   "metadata": {},
   "source": [
    "### Reading Phenotypes"
   ]
  },
  {
   "cell_type": "code",
   "execution_count": 5,
   "metadata": {
    "collapsed": false,
    "scrolled": true
   },
   "outputs": [],
   "source": [
    "phenotypes = OrderedDict()\n",
    "for dataset in dataset_names:\n",
    "    tmp = csv.reader(open(ps[dataset]))\n",
    "    pheno = OrderedDict()\n",
    "    if dataset == 'KKI2009':\n",
    "        triple = [[t[1].strip(), t[4], int(t[5] == 'M')] for t in tmp][1:]  # female=F->0, male=M->1\n",
    "    elif dataset == 'MRN114':\n",
    "        triple = [[t[0].strip(), t[3], int(t[2] == '1')] for t in tmp][1:]  # female=0->0, male=1->1\n",
    "    else:\n",
    "        triple = [[t[0].strip(), t[2], int(t[3] == '2')] for t in tmp\n",
    "                  if t[3] != '#' and t[2] != '#'][1:]  # female=1->0, male=2->1\n",
    "    \n",
    "    for idx, trip in enumerate(triple):\n",
    "        pheno[trip[0]] = trip[1:]\n",
    "    phenotypes[dataset] = pheno"
   ]
  },
  {
   "cell_type": "markdown",
   "metadata": {},
   "source": [
    "### Converting Graphs to Vectors and Phenotypes to List"
   ]
  },
  {
   "cell_type": "code",
   "execution_count": 6,
   "metadata": {
    "collapsed": false
   },
   "outputs": [],
   "source": [
    "N = nx.number_of_nodes(graphs[graphs.keys()[0]][graphs[graphs.keys()[0]].keys()[0]])\n",
    "feat = np.empty((0, int(sp.special.binom(N,2))), int)\n",
    "dats = list(())\n",
    "ages = np.array(())\n",
    "sexy = np.array(())\n",
    "sbjs = list(())\n",
    "\n",
    "\n",
    "for idx1, dset in enumerate(graphs):\n",
    "    for idx2, subj in enumerate(graphs[dset]):\n",
    "        A = nx.adjacency_matrix(graphs[dset][subj]).todense()\n",
    "        Au = A[np.triu_indices(A.shape[0], 1)]\n",
    "        feat = np.append(feat, Au, axis=0)\n",
    "        dats.append(dset)\n",
    "\n",
    "        try:\n",
    "            subj_id = str(int(subj.split('_')[1]))\n",
    "        except:\n",
    "            subj_id = subj.split('_')[1]\n",
    "\n",
    "        sbjs.append(subj_id)\n",
    "\n",
    "        ages = np.append(ages, int(phenotypes[dset][subj_id][0]))\n",
    "        sexy = np.append(sexy, int(phenotypes[dset][subj_id][1]))\n",
    "# print feat.shape, ages.shape, sexy.shape\n",
    "# print sum(sexy == 0), sum(sexy == 1)\n",
    "# print dats"
   ]
  },
  {
   "cell_type": "markdown",
   "metadata": {},
   "source": [
    "---------\n",
    "## Regress Graphs"
   ]
  },
  {
   "cell_type": "markdown",
   "metadata": {},
   "source": [
    "### KNN LOO Dataset Regression"
   ]
  },
  {
   "cell_type": "code",
   "execution_count": null,
   "metadata": {
    "collapsed": false
   },
   "outputs": [],
   "source": [
    "knn_age = OrderedDict()\n",
    "for i in np.arange(20):\n",
    "    regress = KNeighborsRegressor(n_neighbors=2*(i+1)-1)\n",
    "#     print \"=============\"\n",
    "#     print \"K nearest Neighbors: %d\" % (2*(i+1)-1)\n",
    "    tmp = np.array(())\n",
    "    for idx, dset in enumerate(dataset_names):\n",
    "        ind = np.array([dset == d for d in dats])\n",
    "        ft_train = feat[ind < 1] # current dataset is test\n",
    "        ft_test = feat[ind >= 1] # all others are train\n",
    "        ag_train = ages[ind < 1]\n",
    "        ag_test = ages[ind >= 1]\n",
    "        regress.fit(ft_train, ag_train)\n",
    "        score = regress.score(ft_test, ag_test)\n",
    "        tmp = np.append(tmp, score)\n",
    "#         print \"~~~~~~~~~~~~\"\n",
    "#         print \"Left out dataset: %s\" % (dset)\n",
    "#         print \"Train: %d ; Test: %d\" % (sx_train.shape[0], sx_test.shape[0])\n",
    "#         print \"Chance: %0.5f (%0.5f)\" % (sum(sx_test)/len(sx_test), 1-sum(sx_test)/len(sx_test)) \n",
    "#         print \"Classification Accuracy: %.5f (%0.5f)\" % (score, 1-score)\n",
    "    knn_age[i] = tmp"
   ]
  },
  {
   "cell_type": "code",
   "execution_count": null,
   "metadata": {
    "collapsed": false
   },
   "outputs": [],
   "source": [
    "# fig = plt.figure(figsize=(8,6))\n",
    "# mean = [np.mean(knn_age[i]) for i in knn_age]\n",
    "# maxx = [max(knn_age[i]) for i in knn_age]\n",
    "# stder = [np.std(knn_age[i])/np.sqrt(len(dataset_names)) for i in knn_age]\n",
    "# plt.hold(True)\n",
    "# plt.plot((np.arange(20)+1)*2-1, maxx, lw=2, color='#f50000', linestyle='--')\n",
    "# plt.errorbar((np.arange(20)+1)*2-1, mean, stder, lw=2, color='#000000')\n",
    "# # plt.ylim((0.5, 0.7))\n",
    "# # plt.yticks((0.5, 0.6, 0.7),(0.5, 0.6, 0.7))\n",
    "# plt.xticks((0, 20, 40),(0, 20, 40))\n",
    "# plt.xlabel('Size of Neighbourhood (k)')\n",
    "# plt.ylabel('Accuracy')\n",
    "# plt.title('Age Regression Accuracy With \\nLOO-Dataset')\n",
    "# lgd = plt.legend(('Max', 'Mean'), fontsize=16, bbox_to_anchor=(1.05, 1), loc=2, borderaxespad=0.)\n",
    "# plt.tight_layout(1)\n",
    "# plt.savefig('../../figs/graphs/desikan/regression/knn_vectorgraph_regress.png', bbox_extra_artists=(lgd,), bbox_inches='tight')\n",
    "# plt.show()"
   ]
  },
  {
   "cell_type": "markdown",
   "metadata": {},
   "source": [
    "#### KNN LOO Dataset Regression with PCA"
   ]
  },
  {
   "cell_type": "code",
   "execution_count": null,
   "metadata": {
    "collapsed": true
   },
   "outputs": [],
   "source": [
    "knn_pca_age = OrderedDict()\n",
    "dims = 150\n",
    "\n",
    "for i in np.arange(20):\n",
    "    regress = KNeighborsRegressor(n_neighbors=2*(i+1)-1)\n",
    "#     print \"=============\"\n",
    "#     print \"K nearest Neighbors: %d\" % (2*(i+1)-1)\n",
    "    tmp = np.array(())\n",
    "    for idx, dset in enumerate(dataset_names):\n",
    "        ind = np.array([dset == d for d in dats])\n",
    "        ft_train = feat[ind < 1] # current dataset is test\n",
    "        ft_test = feat[ind >= 1] # all others are train\n",
    "        ag_train = ages[ind < 1]\n",
    "        ag_test = ages[ind >= 1]\n",
    "\n",
    "        # take SVD and rotate data\n",
    "        u, s, vh = svd(ft_train)\n",
    "        ft_train_t = np.dot(u,np.diag(s))[:, 0:dims]\n",
    "        regress.fit(ft_train_t, ag_train)\n",
    "\n",
    "        ft_test_t = np.dot(ft_test, vh)[:, 0:dims]\n",
    "        score = regress.score(ft_test_t, ag_test)\n",
    "        tmp = np.append(tmp, score)\n",
    "\n",
    "#         print \"~~~~~~~~~~~~\"\n",
    "#         print \"Left out dataset: %s\" % (dset)\n",
    "#         print \"Train: %d ; Test: %d\" % (sx_train.shape[0], sx_test.shape[0])\n",
    "#         print \"Chance: %0.5f (%0.5f)\" % (sum(sx_test)/len(sx_test), 1-sum(sx_test)/len(sx_test)) \n",
    "#         print \"Classification Accuracy: %.5f (%0.5f)\" % (score, 1-score)\n",
    "\n",
    "    knn_pca_age[i] = tmp"
   ]
  },
  {
   "cell_type": "code",
   "execution_count": null,
   "metadata": {
    "collapsed": false
   },
   "outputs": [],
   "source": [
    "# fig = plt.figure(figsize=(8,6))\n",
    "# mean = [np.mean(knn_pca_age[i]) for i in knn_pca_age]\n",
    "# maxx = [max(knn_pca_age[i]) for i in knn_pca_age]\n",
    "# stder = [np.std(knn_pca_age[i])/np.sqrt(len(dataset_names)) for i in knn_pca_age]\n",
    "# plt.hold(True)\n",
    "# plt.plot((np.arange(20)+1)*2-1, maxx, lw=2, color='#f50000', linestyle='--')\n",
    "# plt.errorbar((np.arange(20)+1)*2-1, mean, stder, lw=2, color='#000000')\n",
    "# # plt.ylim((0.5, 0.7))\n",
    "# # plt.yticks((0.5, 0.6, 0.7),(0.5, 0.6, 0.7))\n",
    "# plt.xticks((0, 20, 40),(0, 20, 40))\n",
    "# plt.xlabel('Size of Neighbourhood (k)')\n",
    "# plt.ylabel('Accuracy')\n",
    "# plt.title('Age Regression Accuracy With \\nLOO-Dataset And PCA')\n",
    "# lgd = plt.legend(('Max', 'Mean'), fontsize=16, bbox_to_anchor=(1.05, 1), loc=2, borderaxespad=0.)\n",
    "# plt.tight_layout(1)\n",
    "# plt.savefig('../../figs/graphs/desikan/regression/knn_pca_regress.png',bbox_extra_artists=(lgd,), bbox_inches='tight')\n",
    "# plt.show()"
   ]
  },
  {
   "cell_type": "markdown",
   "metadata": {},
   "source": [
    "---------\n",
    "\n",
    "---------\n",
    "\n",
    "## Classify Graphs"
   ]
  },
  {
   "cell_type": "markdown",
   "metadata": {},
   "source": [
    "### KNN LOO Scan Cross Validation"
   ]
  },
  {
   "cell_type": "code",
   "execution_count": 7,
   "metadata": {
    "collapsed": false
   },
   "outputs": [
    {
     "name": "stdout",
     "output_type": "stream",
     "text": [
      "Neighbourhoods complete: 3 5 7 9 11 13 15 17 19 21 23 25 27 29 31 33 35 37 39 .\n"
     ]
    }
   ],
   "source": [
    "mean_loo_scan = np.array(())\n",
    "std_loo_scan = np.array(())\n",
    "neighbourhoods = (np.arange(19)+2)*2-1\n",
    "print \"Neighbourhoods complete:\",\n",
    "for i in neighbourhoods:\n",
    "    classif = KNeighborsClassifier(i)\n",
    "    loo = LeaveOneOut(len(sexy))\n",
    "    score = cross_validation.cross_val_score(classif, feat, sexy, cv=loo)\n",
    "    mean_loo_scan = np.append(mean_loo_scan, score.mean())\n",
    "    std_loo_scan = np.append(std_loo_scan, score.std())\n",
    "    print i,\n",
    "print \".\"\n",
    "#     print(\"Accuracy for community size %d: %0.2f (+/- %0.2f)\" % (i, score.mean(), score.std()))"
   ]
  },
  {
   "cell_type": "markdown",
   "metadata": {},
   "source": [
    "### KNN LOO Subject Cross Validation"
   ]
  },
  {
   "cell_type": "code",
   "execution_count": 8,
   "metadata": {
    "collapsed": false
   },
   "outputs": [
    {
     "name": "stdout",
     "output_type": "stream",
     "text": [
      "Neighbourhoods complete: 3 5 7 9 11 13 15 17 19 21 23 25 27 29 31 33 35 37 39 .\n"
     ]
    }
   ],
   "source": [
    "mean_loo_subj = np.array(())\n",
    "std_loo_subj = np.array(())\n",
    "print \"Neighbourhoods complete:\",\n",
    "for i in neighbourhoods:\n",
    "    classif = KNeighborsClassifier(i)\n",
    "    lolo = LeaveOneLabelOut(sbjs)\n",
    "    score = cross_validation.cross_val_score(classif, feat, sexy, cv=lolo)\n",
    "    mean_loo_subj = np.append(mean_loo_subj, score.mean())\n",
    "    std_loo_subj = np.append(std_loo_subj, score.std())\n",
    "    print i,\n",
    "print \".\"\n",
    "#     print(\"Accuracy for community size %d: %0.2f (+/- %0.2f)\" % (i, score.mean(), score.std()))"
   ]
  },
  {
   "cell_type": "markdown",
   "metadata": {},
   "source": [
    "### KNN LOO Dataset"
   ]
  },
  {
   "cell_type": "code",
   "execution_count": 9,
   "metadata": {
    "collapsed": false,
    "scrolled": true
   },
   "outputs": [],
   "source": [
    "knn = OrderedDict()\n",
    "for i in neighbourhoods:\n",
    "    classif = KNeighborsClassifier(i)\n",
    "    tmp = np.array(())\n",
    "    for idx, dset in enumerate(dataset_names):\n",
    "        ind = np.array([dset == d for d in dats])\n",
    "        ft_train = feat[ind < 1] # current dataset is test\n",
    "        ft_test = feat[ind >= 1] # all others are train\n",
    "        sx_train = sexy[ind < 1]\n",
    "        sx_test = sexy[ind >= 1]\n",
    "        classif.fit(ft_train, sx_train)\n",
    "        score = classif.score(ft_test, sx_test)\n",
    "        tmp = np.append(tmp, score)\n",
    "#         print \"Classification Accuracy: %.5f (%0.5f)\" % (score, 1-score)\n",
    "    knn[i] = tmp\n",
    "\n",
    "knn_loo_dsetx = np.array(())\n",
    "knn_loo_dsety = np.array(())\n",
    "for i in neighbourhoods:\n",
    "    knn_loo_dsetx = np.append(knn_loo_dsetx, np.repeat(i, len(dataset_names))+1*np.random.rand(len(dataset_names)))\n",
    "    knn_loo_dsety = np.append(knn_loo_dsety, knn[i])"
   ]
  },
  {
   "cell_type": "markdown",
   "metadata": {
    "collapsed": true
   },
   "source": [
    "### KNN LOO Dataset with PCA "
   ]
  },
  {
   "cell_type": "code",
   "execution_count": 10,
   "metadata": {
    "collapsed": false,
    "scrolled": true
   },
   "outputs": [],
   "source": [
    "knn_pca = OrderedDict()\n",
    "dims = 150\n",
    "\n",
    "for i in neighbourhoods:\n",
    "    classif = KNeighborsClassifier(i)\n",
    "    tmp = np.array(())\n",
    "    for idx, dset in enumerate(dataset_names):\n",
    "        ind = np.array([dset == d for d in dats])\n",
    "        ft_train = feat[ind < 1] # current dataset is test\n",
    "        ft_test = feat[ind >= 1] # all others are train\n",
    "        sx_train = sexy[ind < 1]\n",
    "        sx_test = sexy[ind >= 1]\n",
    "\n",
    "        # take SVD and rotate data\n",
    "        u, s, vh = svd(ft_train)\n",
    "        ft_train_t = np.dot(u,np.diag(s))[:, 0:dims]\n",
    "        classif.fit(ft_train_t, sx_train)\n",
    "\n",
    "        ft_test_t = np.dot(ft_test, vh)[:, 0:dims]\n",
    "        score = classif.score(ft_test_t, sx_test)\n",
    "        tmp = np.append(tmp, score)\n",
    "\n",
    "#         print \"~~~~~~~~~~~~\"\n",
    "#         print \"Left out dataset: %s\" % (dset)\n",
    "#         print \"Train: %d ; Test: %d\" % (sx_train.shape[0], sx_test.shape[0])\n",
    "#         print \"Chance: %0.5f (%0.5f)\" % (sum(sx_test)/len(sx_test), 1-sum(sx_test)/len(sx_test)) \n",
    "#         print \"Classification Accuracy: %.5f (%0.5f)\" % (score, 1-score)\n",
    "    knn_pca[i] = tmp\n",
    "\n",
    "knn_loo_dset_pcax = np.array(())\n",
    "knn_loo_dset_pcay = np.array(())\n",
    "for i in neighbourhoods:\n",
    "    knn_loo_dset_pcax = np.append(knn_loo_dset_pcax, np.repeat(i, len(dataset_names))+1*np.random.rand(len(dataset_names)))\n",
    "    knn_loo_dset_pcay = np.append(knn_loo_dset_pcay, knn[i])"
   ]
  },
  {
   "cell_type": "markdown",
   "metadata": {},
   "source": [
    "### KNN LOO Dataset after subtracting cohort mean"
   ]
  },
  {
   "cell_type": "code",
   "execution_count": 11,
   "metadata": {
    "collapsed": false
   },
   "outputs": [],
   "source": [
    "feat_cm = np.copy(feat)\n",
    "# print feat[600]\n",
    "for idx, dset in enumerate(dataset_names):\n",
    "    ind = np.array([dset == d for d in dats])\n",
    "    curr = feat_cm[ind < 1] # current dataset is test\n",
    "    mean = np.mean(curr, axis=0)\n",
    "    updated = curr - mean\n",
    "    feat_cm[ind < 1] = updated\n",
    "# print feat_cm[600]"
   ]
  },
  {
   "cell_type": "code",
   "execution_count": 12,
   "metadata": {
    "collapsed": false,
    "scrolled": true
   },
   "outputs": [],
   "source": [
    "knn = OrderedDict()\n",
    "for i in neighbourhoods:\n",
    "    classif = KNeighborsClassifier(n_neighbors=2*(i+1)-1)\n",
    "    tmp = np.array(())\n",
    "    for idx, dset in enumerate(dataset_names):\n",
    "        ind = np.array([dset == d for d in dats])\n",
    "        ft_train = feat_cm[ind < 1] # current dataset is test\n",
    "        ft_test = feat_cm[ind >= 1] # all others are train\n",
    "        sx_train = sexy[ind < 1]\n",
    "        sx_test = sexy[ind >= 1]\n",
    "        classif.fit(ft_train, sx_train)\n",
    "        score = classif.score(ft_test, sx_test)\n",
    "        tmp = np.append(tmp, score)\n",
    "#         print \"Classification Accuracy: %.5f (%0.5f)\" % (score, 1-score)\n",
    "    knn[i] = tmp\n",
    "\n",
    "knn_loo_dset_cmx = np.array(())\n",
    "knn_loo_dset_cmy = np.array(())\n",
    "for i in neighbourhoods:\n",
    "    knn_loo_dset_cmx = np.append(knn_loo_dset_cmx, np.repeat(i, len(dataset_names))+1*np.random.rand(len(dataset_names)))\n",
    "    knn_loo_dset_cmy = np.append(knn_loo_dset_cmy, knn[i])"
   ]
  },
  {
   "cell_type": "markdown",
   "metadata": {},
   "source": [
    "### KNN LOO Dataset after subtracting population and then cohort means"
   ]
  },
  {
   "cell_type": "code",
   "execution_count": 13,
   "metadata": {
    "collapsed": false
   },
   "outputs": [],
   "source": [
    "pm = np.mean(feat, axis=0)\n",
    "feat_pm = feat - pm\n",
    "\n",
    "feat_pm_cm = np.copy(feat_pm)\n",
    "# print feat_pm[600]\n",
    "for idx, dset in enumerate(dataset_names):\n",
    "    ind = np.array([dset == d for d in dats])\n",
    "    curr = feat_pm_cm[ind < 1] # current dataset is test\n",
    "    mean = np.mean(curr, axis=0)\n",
    "    updated = curr - mean\n",
    "    feat_pm_cm[ind < 1] = updated\n",
    "# print feat_pm_cm[600]"
   ]
  },
  {
   "cell_type": "code",
   "execution_count": 14,
   "metadata": {
    "collapsed": false,
    "scrolled": true
   },
   "outputs": [],
   "source": [
    "knn = OrderedDict()\n",
    "for i in neighbourhoods:\n",
    "    classif = KNeighborsClassifier(n_neighbors=2*(i+1)-1)\n",
    "    tmp = np.array(())\n",
    "    for idx, dset in enumerate(dataset_names):\n",
    "        ind = np.array([dset == d for d in dats])\n",
    "        ft_train = feat_pm_cm[ind < 1] # current dataset is test\n",
    "        ft_test = feat_pm_cm[ind >= 1] # all others are train\n",
    "        sx_train = sexy[ind < 1]\n",
    "        sx_test = sexy[ind >= 1]\n",
    "        classif.fit(ft_train, sx_train)\n",
    "        score = classif.score(ft_test, sx_test)\n",
    "        tmp = np.append(tmp, score)\n",
    "#         print \"Classification Accuracy: %.5f (%0.5f)\" % (score, 1-score)\n",
    "    knn[i] = tmp\n",
    "\n",
    "knn_loo_dset_pmcmx = np.array(())\n",
    "knn_loo_dset_pmcmy = np.array(())\n",
    "for i in neighbourhoods:\n",
    "    knn_loo_dset_pmcmx = np.append(knn_loo_dset_pmcmx, np.repeat(i, len(dataset_names))+1*np.random.rand(len(dataset_names)))\n",
    "    knn_loo_dset_pmcmy = np.append(knn_loo_dset_pmcmy, knn[i])"
   ]
  },
  {
   "cell_type": "markdown",
   "metadata": {},
   "source": [
    "### KNN LOO Dataset after normalizing data"
   ]
  },
  {
   "cell_type": "code",
   "execution_count": 15,
   "metadata": {
    "collapsed": false
   },
   "outputs": [],
   "source": [
    "feat_un = normalize(feat)"
   ]
  },
  {
   "cell_type": "code",
   "execution_count": 17,
   "metadata": {
    "collapsed": false,
    "scrolled": true
   },
   "outputs": [],
   "source": [
    "knn = OrderedDict()\n",
    "for i in neighbourhoods:\n",
    "    classif = KNeighborsClassifier(n_neighbors=2*(i+1)-1)\n",
    "    tmp = np.array(())\n",
    "    for idx, dset in enumerate(dataset_names):\n",
    "        ind = np.array([dset == d for d in dats])\n",
    "        ft_train = feat_un[ind < 1] # current dataset is test\n",
    "        ft_test = feat_un[ind >= 1] # all others are train\n",
    "        sx_train = sexy[ind < 1]\n",
    "        sx_test = sexy[ind >= 1]\n",
    "        classif.fit(ft_train, sx_train)\n",
    "        score = classif.score(ft_test, sx_test)\n",
    "        tmp = np.append(tmp, score)\n",
    "#         print \"Classification Accuracy: %.5f\" % (score)\n",
    "    knn[i] = tmp\n",
    "\n",
    "knn_loo_dset_unx = np.array(())\n",
    "knn_loo_dset_uny = np.array(())\n",
    "for i in neighbourhoods:\n",
    "    knn_loo_dset_unx = np.append(knn_loo_dset_unx, np.repeat(i, len(dataset_names))+1*np.random.rand(len(dataset_names)))\n",
    "    knn_loo_dset_uny = np.append(knn_loo_dset_uny, knn[i])"
   ]
  },
  {
   "cell_type": "markdown",
   "metadata": {},
   "source": [
    "---------\n",
    "\n",
    "---------\n",
    "\n",
    "## Save the things"
   ]
  },
  {
   "cell_type": "code",
   "execution_count": 18,
   "metadata": {
    "collapsed": false
   },
   "outputs": [],
   "source": [
    "result_file = '../../data/graphs/classification_results.npz'\n",
    "np.savez(result_file,\n",
    "         neighbourhoods=neighbourhoods,\n",
    "         mean_loo_scan=mean_loo_scan, std_loo_scan=std_loo_scan,\n",
    "         mean_loo_subj=mean_loo_subj, std_loo_subj=std_loo_subj,\n",
    "         knn_loo_dsetx=knn_loo_dsetx, knn_loo_dsety=knn_loo_dsety,\n",
    "         knn_loo_dset_cmx=knn_loo_dset_cmx, knn_loo_dset_cmy=knn_loo_dset_cmy,\n",
    "         knn_loo_dset_pmcmx=knn_loo_dset_pmcmx, knn_loo_dset_pmcmy=knn_loo_dset_pmcmy,\n",
    "         knn_loo_dset_unx=knn_loo_dset_unx, knn_loo_dset_uny=knn_loo_dset_uny,\n",
    "         knn_loo_dset_pcax=knn_loo_dset_unx, knn_loo_dset_pcay=knn_loo_dset_uny)\n",
    "\n",
    "feature_file = '../../data/graphs/classified_vectors.npz'\n",
    "np.savez(feature_file,\n",
    "         ages=ages,\n",
    "         sexy=sexy,\n",
    "         sbjs=sbjs,\n",
    "         feat=feat,\n",
    "         feat_cm=feat_cm,\n",
    "         feat_pm_cm=feat_pm_cm,\n",
    "         feat_un=feat_un)"
   ]
  },
  {
   "cell_type": "markdown",
   "metadata": {},
   "source": [
    "---------\n",
    "\n",
    "---------\n",
    "\n",
    "## Load the things"
   ]
  },
  {
   "cell_type": "code",
   "execution_count": 87,
   "metadata": {
    "collapsed": false
   },
   "outputs": [
    {
     "data": {
      "text/plain": [
       "['sbjs', 'ages', 'feat_pm_cm', 'feat_cm', 'sexy', 'feat']"
      ]
     },
     "execution_count": 87,
     "metadata": {},
     "output_type": "execute_result"
    }
   ],
   "source": [
    "dat = np.load(feature_file)\n",
    "dat.files"
   ]
  },
  {
   "cell_type": "markdown",
   "metadata": {},
   "source": [
    "---------\n",
    "\n",
    "---------\n",
    "\n",
    "## Plot the things"
   ]
  },
  {
   "cell_type": "markdown",
   "metadata": {},
   "source": [
    "### Plot as scatter"
   ]
  },
  {
   "cell_type": "code",
   "execution_count": null,
   "metadata": {
    "collapsed": false
   },
   "outputs": [],
   "source": [
    "fig = plt.figure(figsize=(1.2*8,8))\n",
    "plt.errorbar(neighbourhoods, mean_loo_scan, std_loo_scan/np.sqrt(len(sexy)), lw=3, color='#00ee00')\n",
    "plt.errorbar(neighbourhoods, mean_loo_subj, std_loo_subj/np.sqrt(len(sexy)), lw=3, color='#ee0000')\n",
    "plt.hold(True)\n",
    "plt.axhline(sum(sexy)/len(sexy), linestyle='--', lw=5, alpha=0.5, color=\"#0000ee\")\n",
    "plt.scatter(knn_loo_dsetx, knn_loo_dsety, lw=3, color='#000000', alpha=0.75, linestyle='--')\n",
    "plt.scatter(knn_loo_dset_cmx, knn_loo_dset_cmy, lw=3, color='#ee00ee', alpha=0.75, linestyle='--')\n",
    "plt.scatter(knn_loo_dset_pmcmx, knn_loo_dset_pmcmy, lw=3, color='#eeee00', alpha=0.75, linestyle='--')\n",
    "\n",
    "# plt.ylim((0.5, 0.7))\n",
    "# plt.yticks((0.5, 0.6, 0.7),(0.5, 0.6, 0.7))\n",
    "# plt.xticks((0, 20, 40),(0, 20, 40))\n",
    "plt.xlim([2, 40])\n",
    "plt.ylim([0.35, 0.8])\n",
    "plt.xlabel('Size of Neighbourhood (k)')\n",
    "plt.ylabel('Accuracy')\n",
    "plt.title('KNN Sex Classification With Multiple Datasets')\n",
    "lgd = plt.legend(('Chance', 'LOO-Dataset', 'LOO-Dataset - CM', 'LOO-Dataset - PM - CM',\n",
    "            'LOO-Scan', 'LOO-Subj'), fontsize=16, bbox_to_anchor = (1.5, 1))\n",
    "plt.tight_layout(1)\n",
    "plt.savefig('../../figs/graphs/desikan/classification/knn_vectorgraph_class.png',\n",
    "            bbox_extra_artists=(lgd,), bbox_inches='tight')\n",
    "plt.show()"
   ]
  },
  {
   "cell_type": "markdown",
   "metadata": {},
   "source": [
    "### Plotting as errorbars"
   ]
  },
  {
   "cell_type": "code",
   "execution_count": 20,
   "metadata": {
    "collapsed": false
   },
   "outputs": [
    {
     "name": "stdout",
     "output_type": "stream",
     "text": [
      "19 19 19 19 19 19\n"
     ]
    }
   ],
   "source": [
    "knn_loo_dsetx = np.floor(knn_loo_dsetx)\n",
    "knn_loo_dset_pcax = np.floor(knn_loo_dset_pcax)\n",
    "knn_loo_dset_cmx = np.floor(knn_loo_dset_cmx)\n",
    "knn_loo_dset_pmcmx= np.floor(knn_loo_dset_pmcmx)\n",
    "knn_loo_dset_unx = np.floor(knn_loo_dset_unx)\n",
    "\n",
    "mean_loo_dset = np.array(())\n",
    "std_loo_dset = np.array(())\n",
    "\n",
    "mean_loo_dset_pca = np.array(())\n",
    "std_loo_dset_pca = np.array(())\n",
    "\n",
    "mean_loo_dset_cm = np.array(())\n",
    "std_loo_dset_cm = np.array(())\n",
    "\n",
    "mean_loo_dset_pmcm = np.array(())\n",
    "std_loo_dset_pmcm = np.array(())\n",
    "\n",
    "mean_loo_dset_un = np.array(())\n",
    "std_loo_dset_un = np.array(())\n",
    "\n",
    "for idx in neighbourhoods:\n",
    "    tmp = knn_loo_dsety[knn_loo_dsetx == idx]\n",
    "#     print len(tmp)\n",
    "    mean_loo_dset = np.append(mean_loo_dset, np.mean(tmp))\n",
    "    std_loo_dset = np.append(std_loo_dset, np.std(tmp))\n",
    "\n",
    "    tmp_pca = knn_loo_dset_pcay[knn_loo_dset_pcax == idx]\n",
    "#     print len(tmp_pca)\n",
    "    mean_loo_dset_pca = np.append(mean_loo_dset_pca, np.mean(tmp_pca))\n",
    "    std_loo_dset_pca = np.append(std_loo_dset_pca, np.std(tmp_pca))\n",
    "    \n",
    "    tmp_cm = knn_loo_dset_cmy[knn_loo_dset_cmx == idx]\n",
    "#     print len(tmp_cm)\n",
    "    mean_loo_dset_cm = np.append(mean_loo_dset_cm, np.mean(tmp_cm))\n",
    "    std_loo_dset_cm = np.append(std_loo_dset_cm, np.std(tmp_cm))\n",
    "\n",
    "    tmp_pmcm = knn_loo_dset_pmcmy[knn_loo_dset_pmcmx == idx]\n",
    "#     print len(tmp_pmcm)\n",
    "    mean_loo_dset_pmcm = np.append(mean_loo_dset_pmcm, np.mean(tmp_pmcm))\n",
    "    std_loo_dset_pmcm = np.append(std_loo_dset_pmcm, np.std(tmp_pmcm))\n",
    "    \n",
    "    tmp_pmcm = knn_loo_dset_uny[knn_loo_dset_unx == idx]\n",
    "#     print len(tmp_pmcm)\n",
    "    mean_loo_dset_un = np.append(mean_loo_dset_un, np.mean(tmp_pmcm))\n",
    "    std_loo_dset_un = np.append(std_loo_dset_un, np.std(tmp_pmcm))\n",
    "    \n",
    "print len(std_loo_dset_cm), len(std_loo_dset_pca), len(mean_loo_dset_cm),\n",
    "print len(std_loo_dset_pmcm), len(mean_loo_dset_pmcm), len(mean_loo_dset_un)"
   ]
  },
  {
   "cell_type": "code",
   "execution_count": 26,
   "metadata": {
    "collapsed": false
   },
   "outputs": [
    {
     "data": {
      "image/png": "[encoded data removed]",
      "text/plain": [
       "<matplotlib.figure.Figure at 0x1228c41d0>"
      ]
     },
     "metadata": {},
     "output_type": "display_data"
    }
   ],
   "source": [
    "fig = plt.figure(figsize=(1.2*8,8))\n",
    "plt.errorbar(neighbourhoods-0.9, mean_loo_scan, std_loo_scan/np.sqrt(len(sexy)), lw=3, color='#00ee00')\n",
    "plt.errorbar(neighbourhoods-0.6, mean_loo_subj, std_loo_subj/np.sqrt(len(sexy)), lw=3, color='#ee0000')\n",
    "plt.hold(True)\n",
    "plt.axhline(sum(sexy)/len(sexy), linestyle='--', lw=5, alpha=0.5, color=\"#0000ee\")\n",
    "plt.errorbar(neighbourhoods-0.3, mean_loo_dset, std_loo_dset/np.sqrt(len(dataset*1)), lw=3, color='#000000')\n",
    "plt.errorbar(neighbourhoods+0.3, mean_loo_dset_cm, std_loo_dset_cm/np.sqrt(len(dataset*1)), lw=3, color='#ee00ee')\n",
    "plt.errorbar(neighbourhoods+0.6, mean_loo_dset_pmcm, std_loo_dset_pmcm/np.sqrt(len(dataset*1)), lw=3, color='#eeee00')\n",
    "plt.errorbar(neighbourhoods+0.9, mean_loo_dset_un, std_loo_dset_un/np.sqrt(len(dataset*1)), lw=3, color='#606060')\n",
    "\n",
    "# plt.ylim((0.5, 0.7))\n",
    "# plt.yticks((0.5, 0.6, 0.7),(0.5, 0.6, 0.7))\n",
    "# plt.xticks((0, 20, 40),(0, 20, 40))\n",
    "plt.xlim([2, 40.3])\n",
    "plt.ylim([0.35, 0.8])\n",
    "plt.xlabel('Size of Neighbourhood (k)')\n",
    "plt.ylabel('Accuracy')\n",
    "plt.title('KNN Sex Classification With Multiple Datasets')\n",
    "lgd = plt.legend(('Chance', 'LOO-Scan', 'LOO-Subject', 'LOO-Dataset',\n",
    "                  'LOO-Dataset (-CM)', 'LOO-Dataset (-PM-CM)', 'LOO-Dataset (UN)'),\n",
    "                 fontsize=16, bbox_to_anchor = (1.5, 1))\n",
    "plt.tight_layout(1)\n",
    "plt.savefig('../../figs/graphs/desikan/classification/knn_vectorgraph_class_errorbars.png',\n",
    "            bbox_extra_artists=(lgd,), bbox_inches='tight')\n",
    "plt.show()"
   ]
  },
  {
   "cell_type": "markdown",
   "metadata": {},
   "source": [
    "### Next steps\n",
    "1. normalize graphs such that each matrix is unit norm\n",
    "2. semipar (i.e. eigen decomp to d dimensions then procrustese distance). distance metric is the procrustese if I already embed. Zhu and Ghandzi for finding elbows, do median of zg2 for d."
   ]
  },
  {
   "cell_type": "code",
   "execution_count": null,
   "metadata": {
    "collapsed": true
   },
   "outputs": [],
   "source": []
  },
  {
   "cell_type": "code",
   "execution_count": null,
   "metadata": {
    "collapsed": true
   },
   "outputs": [],
   "source": []
  },
  {
   "cell_type": "code",
   "execution_count": null,
   "metadata": {
    "collapsed": true
   },
   "outputs": [],
   "source": []
  }
 ],
 "metadata": {
  "kernelspec": {
   "display_name": "Python 2",
   "language": "python",
   "name": "python2"
  },
  "language_info": {
   "codemirror_mode": {
    "name": "ipython",
    "version": 2
   },
   "file_extension": ".py",
   "mimetype": "text/x-python",
   "name": "python",
   "nbconvert_exporter": "python",
   "pygments_lexer": "ipython2",
   "version": "2.7.11"
  }
 },
 "nbformat": 4,
 "nbformat_minor": 0
}
