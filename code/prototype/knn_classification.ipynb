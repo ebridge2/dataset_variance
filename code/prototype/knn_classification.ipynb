{
 "cells": [
  {
   "cell_type": "markdown",
   "metadata": {},
   "source": [
    "# K-NearestNeighbour Sex Classification"
   ]
  },
  {
   "cell_type": "markdown",
   "metadata": {},
   "source": [
    "## Initial Setup"
   ]
  },
  {
   "cell_type": "markdown",
   "metadata": {},
   "source": [
    "### Imports"
   ]
  },
  {
   "cell_type": "code",
   "execution_count": 1,
   "metadata": {
    "collapsed": false
   },
   "outputs": [],
   "source": [
    "import numpy as np\n",
    "import networkx as nx\n",
    "import scipy as sp\n",
    "import matplotlib.pyplot as plt\n",
    "import os\n",
    "import csv\n",
    "\n",
    "from collections import OrderedDict\n",
    "from sklearn import cross_validation\n",
    "from sklearn.preprocessing import normalize\n",
    "from sklearn.cross_validation import LeaveOneOut, LeaveOneLabelOut\n",
    "from sklearn.neighbors import KNeighborsClassifier\n",
    "from sklearn.neighbors import KNeighborsRegressor\n",
    "from sklearn.neighbors import DistanceMetric\n",
    "from scipy.linalg import svd\n",
    "\n",
    "%matplotlib inline\n",
    "\n",
    "font = {'weight' : 'bold',\n",
    "        'size'   : 18}\n",
    "\n",
    "import matplotlib\n",
    "matplotlib.rc('font', **font)\n",
    "\n",
    "np.random.seed(12345678)  # for reproducibility, set random seed"
   ]
  },
  {
   "cell_type": "markdown",
   "metadata": {},
   "source": [
    "### Getting File Lists"
   ]
  },
  {
   "cell_type": "code",
   "execution_count": 2,
   "metadata": {
    "collapsed": false
   },
   "outputs": [
    {
     "name": "stdout",
     "output_type": "stream",
     "text": [
      "Datasets: KKI2009 (42), MRN114 (114), SWU4 (454), BNU1 (81), BNU3 (46)\n",
      "Total Subjects: 737\n"
     ]
    }
   ],
   "source": [
    "# Initializing dataset names\n",
    "dataset_names = list(('KKI2009', 'MRN114', 'SWU4', 'BNU1', 'BNU3'))\n",
    "# dataset_names = list(('KKI2009', 'MRN114', 'BNU1', 'BNU3'))\n",
    "\n",
    "basepath = '/Users/gkiar/code/classes/upward-spiral/grelliam/data/'\n",
    "atlas = 'desikan'\n",
    "dir_names = [basepath + '/' + atlas + '/' + d for d in dataset_names]\n",
    "\n",
    "#  Crawls directories and creates a dictionary entry of file names for each\n",
    "#  dataset which we plan to process.\n",
    "fs = OrderedDict()\n",
    "for idx, dd in enumerate(dataset_names):\n",
    "    fs[dd] = [root + \"/\" + fl for root, dirs, files in os.walk(dir_names[idx])\n",
    "              for fl in files if fl.endswith(\".graphml\")]\n",
    "\n",
    "ps = {os.path.splitext(os.path.basename(fl))[0] : root + \"/\" + fl\n",
    "      for root, dirs, files in os.walk(basepath+'phenotypes')\n",
    "      for fl in files if fl.endswith(\".csv\") }\n",
    "\n",
    "print \"Datasets: \" + \", \".join([fkey + ' (' + str(len(fs[fkey])) + ')'\n",
    "                                for fkey in fs])\n",
    "print \"Total Subjects: %d\" % (sum([len(fs[key]) for key in fs]))\n"
   ]
  },
  {
   "cell_type": "markdown",
   "metadata": {},
   "source": [
    "### Declaring Graph Read Helper Functions"
   ]
  },
  {
   "cell_type": "code",
   "execution_count": 3,
   "metadata": {
    "collapsed": true
   },
   "outputs": [],
   "source": [
    "def loadGraphs(filenames, verb=False):\n",
    "    \"\"\"\n",
    "    Given a list of files, returns a dictionary of graphs\n",
    "\n",
    "    Required parameters:\n",
    "        filenames:\n",
    "            - List of filenames for graphs\n",
    "    Optional parameters:\n",
    "        verb:\n",
    "            - Toggles verbose output statements\n",
    "    \"\"\"\n",
    "    #  Initializes empty dictionary\n",
    "    gstruct = OrderedDict()\n",
    "    for idx, files in enumerate(filenames):\n",
    "        if verb:\n",
    "            print \"Loading: \" + files\n",
    "        #  Adds graphs to dictionary with key being filename\n",
    "        fname = os.path.basename(files)\n",
    "        gstruct[fname] = nx.read_graphml(files)\n",
    "    return gstruct\n",
    "\n",
    "def constructGraphDict(names, fs, verb=False):\n",
    "    \"\"\"\n",
    "    Given a set of files and a directory to put things, loads graphs.\n",
    "\n",
    "    Required parameters:\n",
    "        names:\n",
    "            - List of names of the datasets\n",
    "        fs:\n",
    "            - Dictionary of lists of files in each dataset\n",
    "    Optional parameters:\n",
    "        verb:\n",
    "            - Toggles verbose output statements\n",
    "    \"\"\"\n",
    "    #  Loads graphs into memory for all datasets\n",
    "    graphs = OrderedDict()\n",
    "    for idx, name in enumerate(names):\n",
    "        if verb:\n",
    "            print \"Loading Dataset: \" + name\n",
    "        # The key for the dictionary of graphs is the dataset name\n",
    "        graphs[name] = loadGraphs(fs[name], verb=verb)\n",
    "    return graphs"
   ]
  },
  {
   "cell_type": "markdown",
   "metadata": {},
   "source": [
    "### Reading Graphs"
   ]
  },
  {
   "cell_type": "code",
   "execution_count": 4,
   "metadata": {
    "collapsed": false
   },
   "outputs": [],
   "source": [
    "graphs = constructGraphDict(dataset_names, fs, verb=False)"
   ]
  },
  {
   "cell_type": "markdown",
   "metadata": {},
   "source": [
    "### Reading Phenotypes"
   ]
  },
  {
   "cell_type": "code",
   "execution_count": 5,
   "metadata": {
    "collapsed": false,
    "scrolled": true
   },
   "outputs": [],
   "source": [
    "phenotypes = OrderedDict()\n",
    "for dataset in dataset_names:\n",
    "    tmp = csv.reader(open(ps[dataset]))\n",
    "    pheno = OrderedDict()\n",
    "    if dataset == 'KKI2009':\n",
    "        triple = [[t[1].strip(), t[4], int(t[5] == 'M')] for t in tmp][1:]  # female=F->0, male=M->1\n",
    "    elif dataset == 'MRN114':\n",
    "        triple = [[t[0].strip(), t[3], int(t[2] == '1')] for t in tmp][1:]  # female=0->0, male=1->1\n",
    "    else:\n",
    "        triple = [[t[0].strip(), t[2], int(t[3] == '2')] for t in tmp\n",
    "                  if t[3] != '#' and t[2] != '#'][1:]  # female=1->0, male=2->1\n",
    "    \n",
    "    for idx, trip in enumerate(triple):\n",
    "        pheno[trip[0]] = trip[1:]\n",
    "    phenotypes[dataset] = pheno"
   ]
  },
  {
   "cell_type": "markdown",
   "metadata": {},
   "source": [
    "### Converting Graphs to Vectors and Phenotypes to List"
   ]
  },
  {
   "cell_type": "code",
   "execution_count": 6,
   "metadata": {
    "collapsed": false
   },
   "outputs": [],
   "source": [
    "N = nx.number_of_nodes(graphs[graphs.keys()[0]][graphs[graphs.keys()[0]].keys()[0]])\n",
    "feat = np.empty((0, int(sp.special.binom(N,2))), int)\n",
    "dats = list(())\n",
    "ages = np.array(())\n",
    "sexy = np.array(())\n",
    "sbjs = list(())\n",
    "\n",
    "\n",
    "for idx1, dset in enumerate(graphs):\n",
    "    for idx2, subj in enumerate(graphs[dset]):\n",
    "        A = nx.adjacency_matrix(graphs[dset][subj]).todense()\n",
    "        Au = A[np.triu_indices(A.shape[0], 1)]\n",
    "        feat = np.append(feat, Au, axis=0)\n",
    "        dats.append(dset)\n",
    "\n",
    "        try:\n",
    "            subj_id = str(int(subj.split('_')[1]))\n",
    "        except:\n",
    "            subj_id = subj.split('_')[1]\n",
    "\n",
    "        sbjs.append(subj_id)\n",
    "\n",
    "        ages = np.append(ages, int(phenotypes[dset][subj_id][0]))\n",
    "        sexy = np.append(sexy, int(phenotypes[dset][subj_id][1]))\n",
    "# print feat.shape, ages.shape, sexy.shape\n",
    "# print sum(sexy == 0), sum(sexy == 1)\n",
    "# print dats"
   ]
  },
  {
   "cell_type": "markdown",
   "metadata": {},
   "source": [
    "---------\n",
    "\n",
    "---------\n",
    "\n",
    "## Classify Graphs"
   ]
  },
  {
   "cell_type": "markdown",
   "metadata": {},
   "source": [
    "### KNN LOO Scan Cross Validation"
   ]
  },
  {
   "cell_type": "code",
   "execution_count": 7,
   "metadata": {
    "collapsed": false
   },
   "outputs": [
    {
     "name": "stdout",
     "output_type": "stream",
     "text": [
      "Neighbourhoods complete: 3 5 7 9 11 13 15 17 19 21 23 25 27 29 31 33 35 37 39 .\n"
     ]
    }
   ],
   "source": [
    "mean_loo_scan = np.array(())\n",
    "std_loo_scan = np.array(())\n",
    "neighbourhoods = (np.arange(19)+2)*2-1\n",
    "print \"Neighbourhoods complete:\",\n",
    "for i in neighbourhoods:\n",
    "    classif = KNeighborsClassifier(i)\n",
    "    loo = LeaveOneOut(len(sexy))\n",
    "    score = cross_validation.cross_val_score(classif, feat, sexy, cv=loo)\n",
    "    mean_loo_scan = np.append(mean_loo_scan, score.mean())\n",
    "    std_loo_scan = np.append(std_loo_scan, score.std())\n",
    "    print i,\n",
    "print \".\"\n",
    "#     print(\"Accuracy for community size %d: %0.2f (+/- %0.2f)\" % (i, score.mean(), score.std()))"
   ]
  },
  {
   "cell_type": "markdown",
   "metadata": {},
   "source": [
    "### KNN LOO Subject Cross Validation"
   ]
  },
  {
   "cell_type": "code",
   "execution_count": 8,
   "metadata": {
    "collapsed": false
   },
   "outputs": [
    {
     "name": "stdout",
     "output_type": "stream",
     "text": [
      "Neighbourhoods complete: 3 5 7 9 11 13 15 17 19 21 23 25 27 29 31 33 35 37 39 .\n"
     ]
    }
   ],
   "source": [
    "mean_loo_subj = np.array(())\n",
    "std_loo_subj = np.array(())\n",
    "print \"Neighbourhoods complete:\",\n",
    "for i in neighbourhoods:\n",
    "    classif = KNeighborsClassifier(i)\n",
    "    lolo = LeaveOneLabelOut(sbjs)\n",
    "    score = cross_validation.cross_val_score(classif, feat, sexy, cv=lolo)\n",
    "    mean_loo_subj = np.append(mean_loo_subj, score.mean())\n",
    "    std_loo_subj = np.append(std_loo_subj, score.std())\n",
    "    print i,\n",
    "print \".\"\n",
    "#     print(\"Accuracy for community size %d: %0.2f (+/- %0.2f)\" % (i, score.mean(), score.std()))"
   ]
  },
  {
   "cell_type": "markdown",
   "metadata": {},
   "source": [
    "### KNN LOO Dataset"
   ]
  },
  {
   "cell_type": "code",
   "execution_count": 9,
   "metadata": {
    "collapsed": false,
    "scrolled": true
   },
   "outputs": [],
   "source": [
    "knn = OrderedDict()\n",
    "for i in neighbourhoods:\n",
    "    classif = KNeighborsClassifier(i)\n",
    "    tmp = np.array(())\n",
    "    for idx, dset in enumerate(dataset_names):\n",
    "        ind = np.array([dset == d for d in dats])\n",
    "        ft_train = feat[ind < 1] # current dataset is test\n",
    "        ft_test = feat[ind >= 1] # all others are train\n",
    "        sx_train = sexy[ind < 1]\n",
    "        sx_test = sexy[ind >= 1]\n",
    "        classif.fit(ft_train, sx_train)\n",
    "        score = classif.score(ft_test, sx_test)\n",
    "        tmp = np.append(tmp, score)\n",
    "#         print \"Classification Accuracy: %.5f (%0.5f)\" % (score, 1-score)\n",
    "    knn[i] = tmp\n",
    "\n",
    "knn_loo_dsetx = np.array(())\n",
    "knn_loo_dsety = np.array(())\n",
    "for i in neighbourhoods:\n",
    "    knn_loo_dsetx = np.append(knn_loo_dsetx, np.repeat(i, len(dataset_names))+1*np.random.rand(len(dataset_names)))\n",
    "    knn_loo_dsety = np.append(knn_loo_dsety, knn[i])"
   ]
  },
  {
   "cell_type": "markdown",
   "metadata": {
    "collapsed": true
   },
   "source": [
    "### KNN LOO Dataset with PCA "
   ]
  },
  {
   "cell_type": "code",
   "execution_count": 10,
   "metadata": {
    "collapsed": false,
    "scrolled": true
   },
   "outputs": [],
   "source": [
    "knn_pca = OrderedDict()\n",
    "dims = 150\n",
    "\n",
    "for i in neighbourhoods:\n",
    "    classif = KNeighborsClassifier(i)\n",
    "    tmp = np.array(())\n",
    "    for idx, dset in enumerate(dataset_names):\n",
    "        ind = np.array([dset == d for d in dats])\n",
    "        ft_train = feat[ind < 1] # current dataset is test\n",
    "        ft_test = feat[ind >= 1] # all others are train\n",
    "        sx_train = sexy[ind < 1]\n",
    "        sx_test = sexy[ind >= 1]\n",
    "\n",
    "        # take SVD and rotate data\n",
    "        u, s, vh = svd(ft_train)\n",
    "        ft_train_t = np.dot(u,np.diag(s))[:, 0:dims]\n",
    "        classif.fit(ft_train_t, sx_train)\n",
    "\n",
    "        ft_test_t = np.dot(ft_test, vh)[:, 0:dims]\n",
    "        score = classif.score(ft_test_t, sx_test)\n",
    "        tmp = np.append(tmp, score)\n",
    "\n",
    "#         print \"~~~~~~~~~~~~\"\n",
    "#         print \"Left out dataset: %s\" % (dset)\n",
    "#         print \"Train: %d ; Test: %d\" % (sx_train.shape[0], sx_test.shape[0])\n",
    "#         print \"Chance: %0.5f (%0.5f)\" % (sum(sx_test)/len(sx_test), 1-sum(sx_test)/len(sx_test)) \n",
    "#         print \"Classification Accuracy: %.5f (%0.5f)\" % (score, 1-score)\n",
    "    knn_pca[i] = tmp\n",
    "\n",
    "knn_loo_dset_pcax = np.array(())\n",
    "knn_loo_dset_pcay = np.array(())\n",
    "for i in neighbourhoods:\n",
    "    knn_loo_dset_pcax = np.append(knn_loo_dset_pcax, np.repeat(i, len(dataset_names))+1*np.random.rand(len(dataset_names)))\n",
    "    knn_loo_dset_pcay = np.append(knn_loo_dset_pcay, knn[i])"
   ]
  },
  {
   "cell_type": "markdown",
   "metadata": {},
   "source": [
    "### KNN LOO Dataset after subtracting cohort mean"
   ]
  },
  {
   "cell_type": "code",
   "execution_count": 11,
   "metadata": {
    "collapsed": false
   },
   "outputs": [],
   "source": [
    "feat_cm = np.copy(feat)\n",
    "# print feat[600]\n",
    "for idx, dset in enumerate(dataset_names):\n",
    "    ind = np.array([dset == d for d in dats])\n",
    "    curr = feat_cm[ind < 1] # current dataset is test\n",
    "    mean = np.mean(curr, axis=0)\n",
    "    updated = curr - mean\n",
    "    feat_cm[ind < 1] = updated\n",
    "# print feat_cm[600]"
   ]
  },
  {
   "cell_type": "code",
   "execution_count": 12,
   "metadata": {
    "collapsed": false,
    "scrolled": true
   },
   "outputs": [],
   "source": [
    "knn = OrderedDict()\n",
    "for i in neighbourhoods:\n",
    "    classif = KNeighborsClassifier(n_neighbors=2*(i+1)-1)\n",
    "    tmp = np.array(())\n",
    "    for idx, dset in enumerate(dataset_names):\n",
    "        ind = np.array([dset == d for d in dats])\n",
    "        ft_train = feat_cm[ind < 1] # current dataset is test\n",
    "        ft_test = feat_cm[ind >= 1] # all others are train\n",
    "        sx_train = sexy[ind < 1]\n",
    "        sx_test = sexy[ind >= 1]\n",
    "        classif.fit(ft_train, sx_train)\n",
    "        score = classif.score(ft_test, sx_test)\n",
    "        tmp = np.append(tmp, score)\n",
    "#         print \"Classification Accuracy: %.5f (%0.5f)\" % (score, 1-score)\n",
    "    knn[i] = tmp\n",
    "\n",
    "knn_loo_dset_cmx = np.array(())\n",
    "knn_loo_dset_cmy = np.array(())\n",
    "for i in neighbourhoods:\n",
    "    knn_loo_dset_cmx = np.append(knn_loo_dset_cmx, np.repeat(i, len(dataset_names))+1*np.random.rand(len(dataset_names)))\n",
    "    knn_loo_dset_cmy = np.append(knn_loo_dset_cmy, knn[i])"
   ]
  },
  {
   "cell_type": "markdown",
   "metadata": {},
   "source": [
    "### KNN LOO Dataset after subtracting population and then cohort means"
   ]
  },
  {
   "cell_type": "code",
   "execution_count": 13,
   "metadata": {
    "collapsed": false
   },
   "outputs": [],
   "source": [
    "pm = np.mean(feat, axis=0)\n",
    "feat_pm = feat - pm\n",
    "\n",
    "feat_pm_cm = np.copy(feat_pm)\n",
    "# print feat_pm[600]\n",
    "for idx, dset in enumerate(dataset_names):\n",
    "    ind = np.array([dset == d for d in dats])\n",
    "    curr = feat_pm_cm[ind < 1] # current dataset is test\n",
    "    mean = np.mean(curr, axis=0)\n",
    "    updated = curr - mean\n",
    "    feat_pm_cm[ind < 1] = updated\n",
    "# print feat_pm_cm[600]"
   ]
  },
  {
   "cell_type": "code",
   "execution_count": 14,
   "metadata": {
    "collapsed": false,
    "scrolled": true
   },
   "outputs": [],
   "source": [
    "knn = OrderedDict()\n",
    "for i in neighbourhoods:\n",
    "    classif = KNeighborsClassifier(n_neighbors=2*(i+1)-1)\n",
    "    tmp = np.array(())\n",
    "    for idx, dset in enumerate(dataset_names):\n",
    "        ind = np.array([dset == d for d in dats])\n",
    "        ft_train = feat_pm_cm[ind < 1] # current dataset is test\n",
    "        ft_test = feat_pm_cm[ind >= 1] # all others are train\n",
    "        sx_train = sexy[ind < 1]\n",
    "        sx_test = sexy[ind >= 1]\n",
    "        classif.fit(ft_train, sx_train)\n",
    "        score = classif.score(ft_test, sx_test)\n",
    "        tmp = np.append(tmp, score)\n",
    "#         print \"Classification Accuracy: %.5f (%0.5f)\" % (score, 1-score)\n",
    "    knn[i] = tmp\n",
    "\n",
    "knn_loo_dset_pmcmx = np.array(())\n",
    "knn_loo_dset_pmcmy = np.array(())\n",
    "for i in neighbourhoods:\n",
    "    knn_loo_dset_pmcmx = np.append(knn_loo_dset_pmcmx, np.repeat(i, len(dataset_names))+1*np.random.rand(len(dataset_names)))\n",
    "    knn_loo_dset_pmcmy = np.append(knn_loo_dset_pmcmy, knn[i])"
   ]
  },
  {
   "cell_type": "markdown",
   "metadata": {},
   "source": [
    "### KNN LOO Dataset after normalizing data"
   ]
  },
  {
   "cell_type": "code",
   "execution_count": 15,
   "metadata": {
    "collapsed": false
   },
   "outputs": [],
   "source": [
    "feat_un = normalize(feat)"
   ]
  },
  {
   "cell_type": "code",
   "execution_count": 17,
   "metadata": {
    "collapsed": false,
    "scrolled": true
   },
   "outputs": [],
   "source": [
    "knn = OrderedDict()\n",
    "for i in neighbourhoods:\n",
    "    classif = KNeighborsClassifier(n_neighbors=2*(i+1)-1)\n",
    "    tmp = np.array(())\n",
    "    for idx, dset in enumerate(dataset_names):\n",
    "        ind = np.array([dset == d for d in dats])\n",
    "        ft_train = feat_un[ind < 1] # current dataset is test\n",
    "        ft_test = feat_un[ind >= 1] # all others are train\n",
    "        sx_train = sexy[ind < 1]\n",
    "        sx_test = sexy[ind >= 1]\n",
    "        classif.fit(ft_train, sx_train)\n",
    "        score = classif.score(ft_test, sx_test)\n",
    "        tmp = np.append(tmp, score)\n",
    "#         print \"Classification Accuracy: %.5f\" % (score)\n",
    "    knn[i] = tmp\n",
    "\n",
    "knn_loo_dset_unx = np.array(())\n",
    "knn_loo_dset_uny = np.array(())\n",
    "for i in neighbourhoods:\n",
    "    knn_loo_dset_unx = np.append(knn_loo_dset_unx, np.repeat(i, len(dataset_names))+1*np.random.rand(len(dataset_names)))\n",
    "    knn_loo_dset_uny = np.append(knn_loo_dset_uny, knn[i])"
   ]
  },
  {
   "cell_type": "markdown",
   "metadata": {},
   "source": [
    "---------\n",
    "\n",
    "---------\n",
    "\n",
    "## Save the things"
   ]
  },
  {
   "cell_type": "code",
   "execution_count": 18,
   "metadata": {
    "collapsed": false
   },
   "outputs": [],
   "source": [
    "result_file = '../../data/graphs/classification_results.npz'\n",
    "np.savez(result_file,\n",
    "         neighbourhoods=neighbourhoods,\n",
    "         mean_loo_scan=mean_loo_scan, std_loo_scan=std_loo_scan,\n",
    "         mean_loo_subj=mean_loo_subj, std_loo_subj=std_loo_subj,\n",
    "         knn_loo_dsetx=knn_loo_dsetx, knn_loo_dsety=knn_loo_dsety,\n",
    "         knn_loo_dset_cmx=knn_loo_dset_cmx, knn_loo_dset_cmy=knn_loo_dset_cmy,\n",
    "         knn_loo_dset_pmcmx=knn_loo_dset_pmcmx, knn_loo_dset_pmcmy=knn_loo_dset_pmcmy,\n",
    "         knn_loo_dset_unx=knn_loo_dset_unx, knn_loo_dset_uny=knn_loo_dset_uny,\n",
    "         knn_loo_dset_pcax=knn_loo_dset_unx, knn_loo_dset_pcay=knn_loo_dset_uny)\n",
    "\n",
    "feature_file = '../../data/graphs/classified_vectors.npz'\n",
    "np.savez(feature_file,\n",
    "         ages=ages,\n",
    "         sexy=sexy,\n",
    "         sbjs=sbjs,\n",
    "         feat=feat,\n",
    "         feat_cm=feat_cm,\n",
    "         feat_pm_cm=feat_pm_cm,\n",
    "         feat_un=feat_un)"
   ]
  },
  {
   "cell_type": "markdown",
   "metadata": {},
   "source": [
    "---------\n",
    "\n",
    "---------\n",
    "\n",
    "## Load the things"
   ]
  },
  {
   "cell_type": "code",
   "execution_count": 96,
   "metadata": {
    "collapsed": true
   },
   "outputs": [],
   "source": [
    "feature_file = '../../data/graphs/classified_vectors.npz'\n",
    "result_file = '../../data/graphs/classification_results.npz'"
   ]
  },
  {
   "cell_type": "code",
   "execution_count": 97,
   "metadata": {
    "collapsed": false
   },
   "outputs": [],
   "source": [
    "from numpy import array\n",
    "dat = np.load(feature_file)\n",
    "dat.files\n",
    "d2 = np.load(result_file)\n",
    "for key in d2:\n",
    "    exec('{KEY} = {VALUE}'.format(KEY = key, VALUE = repr(d2[key]))) "
   ]
  },
  {
   "cell_type": "markdown",
   "metadata": {},
   "source": [
    "---------\n",
    "\n",
    "---------\n",
    "\n",
    "## Plot the things"
   ]
  },
  {
   "cell_type": "markdown",
   "metadata": {},
   "source": [
    "### Plotting as errorbars"
   ]
  },
  {
   "cell_type": "code",
   "execution_count": 98,
   "metadata": {
    "collapsed": false
   },
   "outputs": [
    {
     "name": "stdout",
     "output_type": "stream",
     "text": [
      "19 19 19 19 19 19\n"
     ]
    }
   ],
   "source": [
    "knn_loo_dsetx = np.floor(knn_loo_dsetx)\n",
    "knn_loo_dset_pcax = np.floor(knn_loo_dset_pcax)\n",
    "knn_loo_dset_cmx = np.floor(knn_loo_dset_cmx)\n",
    "knn_loo_dset_pmcmx= np.floor(knn_loo_dset_pmcmx)\n",
    "knn_loo_dset_unx = np.floor(knn_loo_dset_unx)\n",
    "\n",
    "mean_loo_dset = np.array(())\n",
    "std_loo_dset = np.array(())\n",
    "\n",
    "mean_loo_dset_pca = np.array(())\n",
    "std_loo_dset_pca = np.array(())\n",
    "\n",
    "mean_loo_dset_cm = np.array(())\n",
    "std_loo_dset_cm = np.array(())\n",
    "\n",
    "mean_loo_dset_pmcm = np.array(())\n",
    "std_loo_dset_pmcm = np.array(())\n",
    "\n",
    "mean_loo_dset_un = np.array(())\n",
    "std_loo_dset_un = np.array(())\n",
    "\n",
    "for idx in neighbourhoods:\n",
    "    tmp = knn_loo_dsety[knn_loo_dsetx == idx]\n",
    "#     print len(tmp)\n",
    "    mean_loo_dset = np.append(mean_loo_dset, np.mean(tmp))\n",
    "    std_loo_dset = np.append(std_loo_dset, np.std(tmp))\n",
    "\n",
    "    tmp_pca = knn_loo_dset_pcay[knn_loo_dset_pcax == idx]\n",
    "#     print len(tmp_pca)\n",
    "    mean_loo_dset_pca = np.append(mean_loo_dset_pca, np.mean(tmp_pca))\n",
    "    std_loo_dset_pca = np.append(std_loo_dset_pca, np.std(tmp_pca))\n",
    "    \n",
    "    tmp_cm = knn_loo_dset_cmy[knn_loo_dset_cmx == idx]\n",
    "#     print len(tmp_cm)\n",
    "    mean_loo_dset_cm = np.append(mean_loo_dset_cm, np.mean(tmp_cm))\n",
    "    std_loo_dset_cm = np.append(std_loo_dset_cm, np.std(tmp_cm))\n",
    "\n",
    "    tmp_pmcm = knn_loo_dset_pmcmy[knn_loo_dset_pmcmx == idx]\n",
    "#     print len(tmp_pmcm)\n",
    "    mean_loo_dset_pmcm = np.append(mean_loo_dset_pmcm, np.mean(tmp_pmcm))\n",
    "    std_loo_dset_pmcm = np.append(std_loo_dset_pmcm, np.std(tmp_pmcm))\n",
    "    \n",
    "    tmp_pmcm = knn_loo_dset_uny[knn_loo_dset_unx == idx]\n",
    "#     print len(tmp_pmcm)\n",
    "    mean_loo_dset_un = np.append(mean_loo_dset_un, np.mean(tmp_pmcm))\n",
    "    std_loo_dset_un = np.append(std_loo_dset_un, np.std(tmp_pmcm))\n",
    "    \n",
    "print len(std_loo_dset_cm), len(std_loo_dset_pca), len(mean_loo_dset_cm),\n",
    "print len(std_loo_dset_pmcm), len(mean_loo_dset_pmcm), len(mean_loo_dset_un)"
   ]
  },
  {
   "cell_type": "code",
   "execution_count": 99,
   "metadata": {
    "collapsed": false
   },
   "outputs": [
    {
     "data": {
      "image/png": "[encoded data removed]",
      "text/plain": [
       "<matplotlib.figure.Figure at 0x129d87c10>"
      ]
     },
     "metadata": {},
     "output_type": "display_data"
    }
   ],
   "source": [
    "fig = plt.figure(figsize=(1.2*8,8))\n",
    "plt.errorbar(neighbourhoods-0.9, mean_loo_scan, std_loo_scan/np.sqrt(len(sexy)), lw=3, color='#00ee00')\n",
    "plt.errorbar(neighbourhoods-0.6, mean_loo_subj, std_loo_subj/np.sqrt(len(sexy)), lw=3, color='#ee0000')\n",
    "plt.hold(True)\n",
    "plt.axhline(sum(sexy)/len(sexy), linestyle='--', lw=5, alpha=0.5, color=\"#0000ee\")\n",
    "plt.errorbar(neighbourhoods-0.3, mean_loo_dset, std_loo_dset/np.sqrt(len(dataset*1)), lw=3, color='#000000')\n",
    "plt.errorbar(neighbourhoods+0.3, mean_loo_dset_cm, std_loo_dset_cm/np.sqrt(len(dataset*1)), lw=3, color='#ee00ee')\n",
    "plt.errorbar(neighbourhoods+0.6, mean_loo_dset_pmcm, std_loo_dset_pmcm/np.sqrt(len(dataset*1)), lw=3, color='#eeee00')\n",
    "plt.errorbar(neighbourhoods+0.9, mean_loo_dset_un, std_loo_dset_un/np.sqrt(len(dataset*1)), lw=3, color='#606060')\n",
    "\n",
    "# plt.ylim((0.5, 0.7))\n",
    "# plt.yticks((0.5, 0.6, 0.7),(0.5, 0.6, 0.7))\n",
    "# plt.xticks((0, 20, 40),(0, 20, 40))\n",
    "plt.xlim([2, 40.3])\n",
    "plt.ylim([0.35, 0.8])\n",
    "plt.xlabel('Size of Neighbourhood (k)')\n",
    "plt.ylabel('Accuracy')\n",
    "plt.title('KNN Sex Classification With Multiple Datasets')\n",
    "lgd = plt.legend(('Chance', 'LOO-Scan', 'LOO-Subject', 'LOO-Dataset',\n",
    "                  'LOO-Dataset (-CM)', 'LOO-Dataset (-PM-CM)', 'LOO-Dataset (UN)'),\n",
    "                 fontsize=16, bbox_to_anchor = (1.5, 1))\n",
    "plt.tight_layout(1)\n",
    "plt.savefig('../../figs/graphs/classification/knn_class_desikan.png',\n",
    "            bbox_extra_artists=(lgd,), bbox_inches='tight')\n",
    "plt.show()"
   ]
  },
  {
   "cell_type": "markdown",
   "metadata": {},
   "source": [
    "---------\n",
    "## Regress Graphs"
   ]
  },
  {
   "cell_type": "markdown",
   "metadata": {},
   "source": [
    "### KNN LOO Dataset Regression"
   ]
  },
  {
   "cell_type": "code",
   "execution_count": 69,
   "metadata": {
    "collapsed": false
   },
   "outputs": [
    {
     "name": "stdout",
     "output_type": "stream",
     "text": [
      "\n"
     ]
    }
   ],
   "source": [
    "knn_age = OrderedDict()\n",
    "for i in np.arange(20):\n",
    "    regress = KNeighborsRegressor(n_neighbors=2*(i+1)-1)\n",
    "#     print \"=============\"\n",
    "#     print \"K nearest Neighbors: %d\" % (2*(i+1)-1)\n",
    "    tmp = np.array(())\n",
    "    for idx, dset in enumerate(dataset_names):\n",
    "        ind = np.array([dset == d for d in dats])\n",
    "        ft_train = feat[ind < 1] # current dataset is test\n",
    "        ft_test = feat[ind >= 1] # all others are train\n",
    "        ag_train = ages[ind < 1]\n",
    "        ag_test = ages[ind >= 1]\n",
    "        regress.fit(ft_train, ag_train)\n",
    "        score = regress.score(ft_test, ag_test)\n",
    "        tmp = np.append(tmp, score)\n",
    "#         print \"~~~~~~~~~~~~\"\n",
    "#         print \"Left out dataset: %s\" % (dset)\n",
    "#         print \"Train: %d ; Test: %d\" % (sx_train.shape[0], sx_test.shape[0])\n",
    "#         print \"Chance: %0.5f (%0.5f)\" % (sum(sx_test)/len(sx_test), 1-sum(sx_test)/len(sx_test)) \n",
    "    knn_age[i] = tmp"
   ]
  },
  {
   "cell_type": "markdown",
   "metadata": {},
   "source": [
    "### KNN LOO Scan"
   ]
  },
  {
   "cell_type": "code",
   "execution_count": 70,
   "metadata": {
    "collapsed": false
   },
   "outputs": [
    {
     "name": "stdout",
     "output_type": "stream",
     "text": [
      "Neighbourhoods complete: 3 5 7 9 11 13 15 17 19 21 23 25 27 29 31 33 35 37 39 .\n"
     ]
    }
   ],
   "source": [
    "mean_loo_scan = np.array(())\n",
    "std_loo_scan = np.array(())\n",
    "neighbourhoods = (np.arange(19)+2)*2-1\n",
    "print \"Neighbourhoods complete:\",\n",
    "for i in neighbourhoods:\n",
    "    regress = KNeighborsRegressor(i)\n",
    "    loo = LeaveOneOut(len(ages))\n",
    "    score = cross_validation.cross_val_score(regress, feat, ages, cv=loo)\n",
    "    mean_loo_scan = np.append(mean_loo_scan, score.mean())\n",
    "    std_loo_scan = np.append(std_loo_scan, score.std())\n",
    "    print i,\n",
    "print \".\"\n",
    "#     print(\"Accuracy for community size %d: %0.2f (+/- %0.2f)\" % (i, score.mean(), score.std()))"
   ]
  },
  {
   "cell_type": "code",
   "execution_count": 73,
   "metadata": {
    "collapsed": false
   },
   "outputs": [
    {
     "data": {
      "text/plain": [
       "array([ 0.11126187,  0.05970149,  0.03934871,  0.03799186,  0.02578019,\n",
       "        0.02170963,  0.0339213 ,  0.02985075,  0.01763908,  0.01221167,\n",
       "        0.02170963,  0.01899593,  0.01221167,  0.01763908,  0.02170963,\n",
       "        0.00949796,  0.00678426,  0.02035278,  0.01085482])"
      ]
     },
     "execution_count": 73,
     "metadata": {},
     "output_type": "execute_result"
    }
   ],
   "source": [
    "mean_loo_scan"
   ]
  },
  {
   "cell_type": "markdown",
   "metadata": {},
   "source": [
    "### KNN LOO Subject Cross Validation"
   ]
  },
  {
   "cell_type": "code",
   "execution_count": 74,
   "metadata": {
    "collapsed": false
   },
   "outputs": [
    {
     "name": "stdout",
     "output_type": "stream",
     "text": [
      "Neighbourhoods complete: 3 5 7 9 11 13 15 17 19 21 23 25 27 29 31 33 35 37 39 .\n"
     ]
    }
   ],
   "source": [
    "mean_loo_subj = np.array(())\n",
    "std_loo_subj = np.array(())\n",
    "print \"Neighbourhoods complete:\",\n",
    "for i in neighbourhoods:\n",
    "    regress = KNeighborsRegressor(i)\n",
    "    lolo = LeaveOneLabelOut(sbjs)\n",
    "    score = cross_validation.cross_val_score(regress, feat, ages, cv=lolo)\n",
    "    mean_loo_subj = np.append(mean_loo_subj, score.mean())\n",
    "    std_loo_subj = np.append(std_loo_subj, score.std())\n",
    "    print i,\n",
    "print \".\"\n",
    "#     print(\"Accuracy for community size %d: %0.2f (+/- %0.2f)\" % (i, score.mean(), score.std()))"
   ]
  },
  {
   "cell_type": "code",
   "execution_count": 75,
   "metadata": {
    "collapsed": false
   },
   "outputs": [
    {
     "data": {
      "text/plain": [
       "array([ 0.03485839,  0.0130719 ,  0.0043573 ,  0.01089325,  0.0087146 ,\n",
       "        0.00653595,  0.00653595,  0.00653595,  0.00217865,  0.        ,\n",
       "        0.0087146 ,  0.00653595,  0.00217865,  0.        ,  0.0043573 ,\n",
       "        0.        ,  0.0043573 ,  0.00217865,  0.00217865])"
      ]
     },
     "execution_count": 75,
     "metadata": {},
     "output_type": "execute_result"
    }
   ],
   "source": [
    "mean_loo_subj"
   ]
  },
  {
   "cell_type": "markdown",
   "metadata": {},
   "source": [
    "### KNN LOO Dataset Regression with PCA"
   ]
  },
  {
   "cell_type": "code",
   "execution_count": 76,
   "metadata": {
    "collapsed": false
   },
   "outputs": [
    {
     "ename": "KeyboardInterrupt",
     "evalue": "",
     "output_type": "error",
     "traceback": [
      "\u001b[0;31m---------------------------------------------------------------------------\u001b[0m",
      "\u001b[0;31mKeyboardInterrupt\u001b[0m                         Traceback (most recent call last)",
      "\u001b[0;32m<ipython-input-76-fe0865013316>\u001b[0m in \u001b[0;36m<module>\u001b[0;34m()\u001b[0m\n\u001b[1;32m     15\u001b[0m \u001b[0;34m\u001b[0m\u001b[0m\n\u001b[1;32m     16\u001b[0m         \u001b[0;31m# take SVD and rotate data\u001b[0m\u001b[0;34m\u001b[0m\u001b[0;34m\u001b[0m\u001b[0m\n\u001b[0;32m---> 17\u001b[0;31m         \u001b[0mu\u001b[0m\u001b[0;34m,\u001b[0m \u001b[0ms\u001b[0m\u001b[0;34m,\u001b[0m \u001b[0mvh\u001b[0m \u001b[0;34m=\u001b[0m \u001b[0msvd\u001b[0m\u001b[0;34m(\u001b[0m\u001b[0mft_train\u001b[0m\u001b[0;34m)\u001b[0m\u001b[0;34m\u001b[0m\u001b[0m\n\u001b[0m\u001b[1;32m     18\u001b[0m         \u001b[0mft_train_t\u001b[0m \u001b[0;34m=\u001b[0m \u001b[0mnp\u001b[0m\u001b[0;34m.\u001b[0m\u001b[0mdot\u001b[0m\u001b[0;34m(\u001b[0m\u001b[0mu\u001b[0m\u001b[0;34m,\u001b[0m\u001b[0mnp\u001b[0m\u001b[0;34m.\u001b[0m\u001b[0mdiag\u001b[0m\u001b[0;34m(\u001b[0m\u001b[0ms\u001b[0m\u001b[0;34m)\u001b[0m\u001b[0;34m)\u001b[0m\u001b[0;34m[\u001b[0m\u001b[0;34m:\u001b[0m\u001b[0;34m,\u001b[0m \u001b[0;36m0\u001b[0m\u001b[0;34m:\u001b[0m\u001b[0mdims\u001b[0m\u001b[0;34m]\u001b[0m\u001b[0;34m\u001b[0m\u001b[0m\n\u001b[1;32m     19\u001b[0m         \u001b[0mregress\u001b[0m\u001b[0;34m.\u001b[0m\u001b[0mfit\u001b[0m\u001b[0;34m(\u001b[0m\u001b[0mft_train_t\u001b[0m\u001b[0;34m,\u001b[0m \u001b[0mag_train\u001b[0m\u001b[0;34m)\u001b[0m\u001b[0;34m\u001b[0m\u001b[0m\n",
      "\u001b[0;32m/usr/local/lib/python2.7/site-packages/scipy/linalg/decomp_svd.pyc\u001b[0m in \u001b[0;36msvd\u001b[0;34m(a, full_matrices, compute_uv, overwrite_a, check_finite)\u001b[0m\n\u001b[1;32m    100\u001b[0m     \u001b[0;31m# perform decomposition\u001b[0m\u001b[0;34m\u001b[0m\u001b[0;34m\u001b[0m\u001b[0m\n\u001b[1;32m    101\u001b[0m     u,s,v,info = gesdd(a1, compute_uv=compute_uv, lwork=lwork,\n\u001b[0;32m--> 102\u001b[0;31m                        full_matrices=full_matrices, overwrite_a=overwrite_a)\n\u001b[0m\u001b[1;32m    103\u001b[0m \u001b[0;34m\u001b[0m\u001b[0m\n\u001b[1;32m    104\u001b[0m     \u001b[0;32mif\u001b[0m \u001b[0minfo\u001b[0m \u001b[0;34m>\u001b[0m \u001b[0;36m0\u001b[0m\u001b[0;34m:\u001b[0m\u001b[0;34m\u001b[0m\u001b[0m\n",
      "\u001b[0;31mKeyboardInterrupt\u001b[0m: "
     ]
    }
   ],
   "source": [
    "knn_pca_age = OrderedDict()\n",
    "dims = 150\n",
    "\n",
    "for i in np.arange(20):\n",
    "    regress = KNeighborsRegressor(n_neighbors=2*(i+1)-1)\n",
    "#     print \"=============\"\n",
    "#     print \"K nearest Neighbors: %d\" % (2*(i+1)-1)\n",
    "    tmp = np.array(())\n",
    "    for idx, dset in enumerate(dataset_names):\n",
    "        ind = np.array([dset == d for d in dats])\n",
    "        ft_train = feat[ind < 1] # current dataset is test\n",
    "        ft_test = feat[ind >= 1] # all others are train\n",
    "        ag_train = ages[ind < 1]\n",
    "        ag_test = ages[ind >= 1]\n",
    "\n",
    "        # take SVD and rotate data\n",
    "        u, s, vh = svd(ft_train)\n",
    "        ft_train_t = np.dot(u,np.diag(s))[:, 0:dims]\n",
    "        regress.fit(ft_train_t, ag_train)\n",
    "\n",
    "        ft_test_t = np.dot(ft_test, vh)[:, 0:dims]\n",
    "        score = regress.score(ft_test_t, ag_test)\n",
    "        tmp = np.append(tmp, score)\n",
    "\n",
    "#         print \"~~~~~~~~~~~~\"\n",
    "#         print \"Left out dataset: %s\" % (dset)\n",
    "#         print \"Train: %d ; Test: %d\" % (sx_train.shape[0], sx_test.shape[0])\n",
    "#         print \"Chance: %0.5f (%0.5f)\" % (sum(sx_test)/len(sx_test), 1-sum(sx_test)/len(sx_test)) \n",
    "#         print \"Classification Accuracy: %.5f (%0.5f)\" % (score, 1-score)\n",
    "\n",
    "    knn_pca_age[i] = tmp"
   ]
  },
  {
   "cell_type": "markdown",
   "metadata": {},
   "source": [
    "### KNN LOO Dataset after subtracting cohort mean"
   ]
  },
  {
   "cell_type": "code",
   "execution_count": 77,
   "metadata": {
    "collapsed": false
   },
   "outputs": [],
   "source": [
    "feat_cm = np.copy(feat)\n",
    "# print feat[600]\n",
    "for idx, dset in enumerate(dataset_names):\n",
    "    ind = np.array([dset == d for d in dats])\n",
    "    curr = feat_cm[ind < 1] # current dataset is test\n",
    "    mean = np.mean(curr, axis=0)\n",
    "    updated = curr - mean\n",
    "    feat_cm[ind < 1] = updated\n",
    "# print feat_cm[600]"
   ]
  },
  {
   "cell_type": "code",
   "execution_count": 80,
   "metadata": {
    "collapsed": false,
    "scrolled": true
   },
   "outputs": [],
   "source": [
    "knn = OrderedDict()\n",
    "for i in neighbourhoods:\n",
    "    regress = KNeighborsRegressor(n_neighbors=2*(i+1)-1)\n",
    "    tmp = np.array(())\n",
    "    for idx, dset in enumerate(dataset_names):\n",
    "        ind = np.array([dset == d for d in dats])\n",
    "        ft_train = feat_cm[ind < 1] # current dataset is test\n",
    "        ft_test = feat_cm[ind >= 1] # all others are train\n",
    "        sx_train = ages[ind < 1]\n",
    "        sx_test = ages[ind >= 1]\n",
    "        regress.fit(ft_train, sx_train)\n",
    "        score = regress.score(ft_test, sx_test)\n",
    "        tmp = np.append(tmp, score)\n",
    "#         print \"Classification Accuracy: %.5f (%0.5f)\" % (score, 1-score)\n",
    "    knn[i] = tmp\n",
    "\n",
    "knn_loo_dset_cmx = np.array(())\n",
    "knn_loo_dset_cmy = np.array(())\n",
    "for i in neighbourhoods:\n",
    "    knn_loo_dset_cmx = np.append(knn_loo_dset_cmx, np.repeat(i, len(dataset_names))+1*np.random.rand(len(dataset_names)))\n",
    "    knn_loo_dset_cmy = np.append(knn_loo_dset_cmy, knn[i])"
   ]
  },
  {
   "cell_type": "code",
   "execution_count": 81,
   "metadata": {
    "collapsed": false
   },
   "outputs": [
    {
     "name": "stdout",
     "output_type": "stream",
     "text": [
      "[ -1.30191323  -3.25599285 -12.3858807   -0.1603138   -0.34891449\n",
      "  -1.25196432  -3.50454603 -15.30380105  -0.18456327  -0.23198656\n",
      "  -1.25817485  -3.68069786 -17.39039497  -0.16731954  -0.17563802\n",
      "  -1.26900845  -3.96405616 -19.38209498  -0.15744238  -0.200792\n",
      "  -1.28748948  -4.25960029 -22.021249    -0.15070342  -0.24613218\n",
      "  -1.27758873  -4.73602578 -24.77366613  -0.12647933  -0.28794139\n",
      "  -1.28045644  -4.74760107 -26.50430967  -0.1512514   -0.30720283\n",
      "  -1.29663271  -4.6370318  -26.86356157  -0.12543902  -0.2677396\n",
      "  -1.31402813  -4.40134248 -26.76248328  -0.12805827  -0.25154249\n",
      "  -1.3297614   -4.0457544  -26.67553448  -0.13441403  -0.25493595\n",
      "  -1.34450305  -3.63071938 -26.45084752  -0.19888419  -0.26199774\n",
      "  -1.356864    -3.16611204 -26.12491407  -0.24454725  -0.22865643\n",
      "  -1.36588457  -2.75730579 -25.95346453  -0.29425092  -0.21206339\n",
      "  -1.3784816   -2.3844737  -25.63164233  -0.35999319  -0.18469643\n",
      "  -1.38669488  -2.07520442 -25.40996574  -0.41856251  -0.17787509\n",
      "  -1.38838115  -1.82153155 -25.0883481   -0.47159015  -0.15421131\n",
      "  -1.39377815  -1.59351467 -24.80705254  -0.51229234  -0.16206939\n",
      "  -1.39937825  -1.4084531  -24.42817674  -0.54259303  -0.15439529\n",
      "  -1.40312125  -1.24499175 -23.88225417  -0.562217    -0.1360442 ]\n"
     ]
    }
   ],
   "source": [
    "print knn_loo_dset_cmy"
   ]
  },
  {
   "cell_type": "markdown",
   "metadata": {},
   "source": [
    "### KNN LOO Dataset after subtracting population and then cohort means"
   ]
  },
  {
   "cell_type": "code",
   "execution_count": 82,
   "metadata": {
    "collapsed": false
   },
   "outputs": [],
   "source": [
    "pm = np.mean(feat, axis=0)\n",
    "feat_pm = feat - pm\n",
    "\n",
    "feat_pm_cm = np.copy(feat_pm)\n",
    "# print feat_pm[600]\n",
    "for idx, dset in enumerate(dataset_names):\n",
    "    ind = np.array([dset == d for d in dats])\n",
    "    curr = feat_pm_cm[ind < 1] # current dataset is test\n",
    "    mean = np.mean(curr, axis=0)\n",
    "    updated = curr - mean\n",
    "    feat_pm_cm[ind < 1] = updated\n",
    "# print feat_pm_cm[600]"
   ]
  },
  {
   "cell_type": "code",
   "execution_count": 83,
   "metadata": {
    "collapsed": false,
    "scrolled": true
   },
   "outputs": [],
   "source": [
    "knn = OrderedDict()\n",
    "for i in neighbourhoods:\n",
    "    regress = KNeighborsRegressor(n_neighbors=2*(i+1)-1)\n",
    "    tmp = np.array(())\n",
    "    for idx, dset in enumerate(dataset_names):\n",
    "        ind = np.array([dset == d for d in dats])\n",
    "        ft_train = feat_pm_cm[ind < 1] # current dataset is test\n",
    "        ft_test = feat_pm_cm[ind >= 1] # all others are train\n",
    "        sx_train = ages[ind < 1]\n",
    "        sx_test = ages[ind >= 1]\n",
    "        regress.fit(ft_train, sx_train)\n",
    "        score = regress.score(ft_test, sx_test)\n",
    "        tmp = np.append(tmp, score)\n",
    "#         print \"Classification Accuracy: %.5f (%0.5f)\" % (score, 1-score)\n",
    "    knn[i] = tmp\n",
    "\n",
    "knn_loo_dset_pmcmx = np.array(())\n",
    "knn_loo_dset_pmcmy = np.array(())\n",
    "for i in neighbourhoods:\n",
    "    knn_loo_dset_pmcmx = np.append(knn_loo_dset_pmcmx, np.repeat(i, len(dataset_names))+1*np.random.rand(len(dataset_names)))\n",
    "    knn_loo_dset_pmcmy = np.append(knn_loo_dset_pmcmy, knn[i])"
   ]
  },
  {
   "cell_type": "code",
   "execution_count": 84,
   "metadata": {
    "collapsed": false
   },
   "outputs": [
    {
     "name": "stdout",
     "output_type": "stream",
     "text": [
      "[ -1.72129774  -0.86593761 -13.47987953  -0.15915483  -0.40006535\n",
      "  -1.65395518  -0.77179917 -13.38643516  -0.17476356  -0.25015258\n",
      "  -1.61279816  -0.8805016  -13.41692276  -0.15145886  -0.21128956\n",
      "  -1.59957283  -1.03504433 -14.41486228  -0.14566288  -0.20811448\n",
      "  -1.58746728  -1.00632008 -16.67366909  -0.15233518  -0.25208973\n",
      "  -1.57040533  -1.0613101  -18.96512279  -0.1261428   -0.29041621\n",
      "  -1.55036144  -1.08832088 -19.33287998  -0.15019007  -0.31224081\n",
      "  -1.54160514  -1.02903119 -19.04318267  -0.12070486  -0.26679814\n",
      "  -1.54788156  -0.98592796 -18.80440334  -0.11895701  -0.25697779\n",
      "  -1.55158205  -0.91892647 -18.94483306  -0.12659066  -0.26485701\n",
      "  -1.53477401  -0.80975507 -18.46896843  -0.18061798  -0.26548433\n",
      "  -1.52294256  -0.7260111  -17.59872379  -0.2209415   -0.23811051\n",
      "  -1.51590935  -0.66440238 -16.76280298  -0.25941427  -0.21492465\n",
      "  -1.51998072  -0.6097395  -16.13518768  -0.29372061  -0.18555914\n",
      "  -1.52579488  -0.56597622 -15.5330482   -0.3444251   -0.17810668\n",
      "  -1.52841964  -0.53111513 -15.04803822  -0.39147761  -0.16441025\n",
      "  -1.52847695  -0.50107239 -14.5786166   -0.44199593  -0.16093455\n",
      "  -1.52733832  -0.47963007 -14.08888254  -0.49838102  -0.15076162\n",
      "  -1.52814804  -0.46257544 -13.67740056  -0.5503095   -0.11851007]\n"
     ]
    }
   ],
   "source": [
    "print knn_loo_dset_pmcmy"
   ]
  },
  {
   "cell_type": "markdown",
   "metadata": {},
   "source": [
    "### KNN LOO Dataset after normalizing data"
   ]
  },
  {
   "cell_type": "code",
   "execution_count": 85,
   "metadata": {
    "collapsed": false
   },
   "outputs": [],
   "source": [
    "feat_un = normalize(feat)"
   ]
  },
  {
   "cell_type": "code",
   "execution_count": 86,
   "metadata": {
    "collapsed": false,
    "scrolled": true
   },
   "outputs": [],
   "source": [
    "knn = OrderedDict()\n",
    "for i in neighbourhoods:\n",
    "    regress = KNeighborsRegressor(n_neighbors=2*(i+1)-1)\n",
    "    tmp = np.array(())\n",
    "    for idx, dset in enumerate(dataset_names):\n",
    "        ind = np.array([dset == d for d in dats])\n",
    "        ft_train = feat_un[ind < 1] # current dataset is test\n",
    "        ft_test = feat_un[ind >= 1] # all others are train\n",
    "        sx_train = ages[ind < 1]\n",
    "        sx_test = ages[ind >= 1]\n",
    "        regress.fit(ft_train, sx_train)\n",
    "        score = regress.score(ft_test, sx_test)\n",
    "        tmp = np.append(tmp, score)\n",
    "#         print \"Classification Accuracy: %.5f\" % (score)\n",
    "    knn[i] = tmp\n",
    "\n",
    "knn_loo_dset_unx = np.array(())\n",
    "knn_loo_dset_uny = np.array(())\n",
    "for i in neighbourhoods:\n",
    "    knn_loo_dset_unx = np.append(knn_loo_dset_unx, np.repeat(i, len(dataset_names))+1*np.random.rand(len(dataset_names)))\n",
    "    knn_loo_dset_uny = np.append(knn_loo_dset_uny, knn[i])"
   ]
  },
  {
   "cell_type": "code",
   "execution_count": 87,
   "metadata": {
    "collapsed": false
   },
   "outputs": [
    {
     "name": "stdout",
     "output_type": "stream",
     "text": [
      "[-1.65379233 -0.4885335  -8.79692257 -0.04302609 -0.26012873 -1.61722648\n",
      " -0.48122963 -8.07230115 -0.03615963 -0.23939452 -1.60959207 -0.48260804\n",
      " -7.803678   -0.04119132 -0.23024451 -1.59062161 -0.44962388 -7.32925061\n",
      " -0.02284654 -0.16011507 -1.5592248  -0.469944   -7.36065325 -0.03976529\n",
      " -0.10966969 -1.547175   -0.48085275 -7.73792881 -0.05468619 -0.14617166\n",
      " -1.54597475 -0.48657275 -8.35321057 -0.07114807 -0.18450887 -1.59330926\n",
      " -0.51643942 -8.84816023 -0.10305144 -0.16574083 -1.61272524 -0.49850472\n",
      " -9.18221692 -0.09483286 -0.15323406 -1.6247337  -0.48623693 -8.52842683\n",
      " -0.10417217 -0.14043148 -1.63049656 -0.46938474 -7.44314747 -0.10932903\n",
      " -0.13535626 -1.63025232 -0.45347332 -6.77805695 -0.17969412 -0.15934778\n",
      " -1.62808172 -0.44060223 -6.2459384  -0.24080534 -0.17207549 -1.6183926\n",
      " -0.43768716 -5.8114404  -0.27791156 -0.18995963 -1.61821267 -0.44812687\n",
      " -5.45161331 -0.32133728 -0.16307458 -1.61598807 -0.44161801 -5.13545233\n",
      " -0.36053423 -0.15634928 -1.61624673 -0.43108497 -4.89828835 -0.38377931\n",
      " -0.15507686 -1.60980193 -0.42180375 -4.6636367  -0.40405209 -0.15236531\n",
      " -1.6078796  -0.41863304 -4.48416045 -0.43909162 -0.14348251]\n"
     ]
    }
   ],
   "source": [
    "print knn_loo_dset_uny"
   ]
  },
  {
   "cell_type": "code",
   "execution_count": 88,
   "metadata": {
    "collapsed": false
   },
   "outputs": [
    {
     "name": "stdout",
     "output_type": "stream",
     "text": [
      "19 19 19 19 19 19\n"
     ]
    }
   ],
   "source": [
    "knn_loo_dsetx = np.floor(knn_loo_dsetx)\n",
    "knn_loo_dset_pcax = np.floor(knn_loo_dset_pcax)\n",
    "knn_loo_dset_cmx = np.floor(knn_loo_dset_cmx)\n",
    "knn_loo_dset_pmcmx= np.floor(knn_loo_dset_pmcmx)\n",
    "knn_loo_dset_unx = np.floor(knn_loo_dset_unx)\n",
    "\n",
    "mean_loo_dset = np.array(())\n",
    "std_loo_dset = np.array(())\n",
    "\n",
    "mean_loo_dset_pca = np.array(())\n",
    "std_loo_dset_pca = np.array(())\n",
    "\n",
    "mean_loo_dset_cm = np.array(())\n",
    "std_loo_dset_cm = np.array(())\n",
    "\n",
    "mean_loo_dset_pmcm = np.array(())\n",
    "std_loo_dset_pmcm = np.array(())\n",
    "\n",
    "mean_loo_dset_un = np.array(())\n",
    "std_loo_dset_un = np.array(())\n",
    "\n",
    "for idx in neighbourhoods:\n",
    "    tmp = knn_loo_dsety[knn_loo_dsetx == idx]\n",
    "#     print len(tmp)\n",
    "    mean_loo_dset = np.append(mean_loo_dset, np.mean(tmp))\n",
    "    std_loo_dset = np.append(std_loo_dset, np.std(tmp))\n",
    "\n",
    "    tmp_pca = knn_loo_dset_pcay[knn_loo_dset_pcax == idx]\n",
    "#     print len(tmp_pca)\n",
    "    mean_loo_dset_pca = np.append(mean_loo_dset_pca, np.mean(tmp_pca))\n",
    "    std_loo_dset_pca = np.append(std_loo_dset_pca, np.std(tmp_pca))\n",
    "    \n",
    "    tmp_cm = knn_loo_dset_cmy[knn_loo_dset_cmx == idx]\n",
    "#     print len(tmp_cm)\n",
    "    mean_loo_dset_cm = np.append(mean_loo_dset_cm, np.mean(tmp_cm))\n",
    "    std_loo_dset_cm = np.append(std_loo_dset_cm, np.std(tmp_cm))\n",
    "\n",
    "    tmp_pmcm = knn_loo_dset_pmcmy[knn_loo_dset_pmcmx == idx]\n",
    "#     print len(tmp_pmcm)\n",
    "    mean_loo_dset_pmcm = np.append(mean_loo_dset_pmcm, np.mean(tmp_pmcm))\n",
    "    std_loo_dset_pmcm = np.append(std_loo_dset_pmcm, np.std(tmp_pmcm))\n",
    "    \n",
    "    tmp_pmcm = knn_loo_dset_uny[knn_loo_dset_unx == idx]\n",
    "#     print len(tmp_pmcm)\n",
    "    mean_loo_dset_un = np.append(mean_loo_dset_un, np.mean(tmp_pmcm))\n",
    "    std_loo_dset_un = np.append(std_loo_dset_un, np.std(tmp_pmcm))\n",
    "    \n",
    "print len(std_loo_dset_cm), len(std_loo_dset_pca), len(mean_loo_dset_cm),\n",
    "print len(std_loo_dset_pmcm), len(mean_loo_dset_pmcm), len(mean_loo_dset_un)"
   ]
  },
  {
   "cell_type": "code",
   "execution_count": 95,
   "metadata": {
    "collapsed": false
   },
   "outputs": [
    {
     "data": {
      "image/png": "[encoded data removed]",
      "text/plain": [
       "<matplotlib.figure.Figure at 0x129c72a50>"
      ]
     },
     "metadata": {},
     "output_type": "display_data"
    }
   ],
   "source": [
    "fig = plt.figure(figsize=(1.2*8,8))\n",
    "plt.errorbar(neighbourhoods-0.9, mean_loo_scan, std_loo_scan/np.sqrt(len(ages)), lw=3, color='#00ee00')\n",
    "plt.errorbar(neighbourhoods-0.6, mean_loo_subj, std_loo_subj/np.sqrt(len(ages)), lw=3, color='#ee0000')\n",
    "plt.hold(True)\n",
    "plt.axhline(0, linestyle='--', lw=5, alpha=0.5, color=\"#0000ee\")\n",
    "plt.errorbar(neighbourhoods-0.3, mean_loo_dset, std_loo_dset/np.sqrt(len(dataset*1)), lw=3, color='#000000')\n",
    "plt.errorbar(neighbourhoods+0.3, mean_loo_dset_cm, std_loo_dset_cm/np.sqrt(len(dataset*1)), lw=3, color='#ee00ee')\n",
    "plt.errorbar(neighbourhoods+0.6, mean_loo_dset_pmcm, std_loo_dset_pmcm/np.sqrt(len(dataset*1)), lw=3, color='#eeee00')\n",
    "plt.errorbar(neighbourhoods+0.9, mean_loo_dset_un, std_loo_dset_un/np.sqrt(len(dataset*1)), lw=3, color='#606060')\n",
    "\n",
    "# plt.ylim((0.5, 0.7))\n",
    "# plt.yticks((0.5, 0.6, 0.7),(0.5, 0.6, 0.7))\n",
    "# plt.xticks((0, 20, 40),(0, 20, 40))\n",
    "plt.xlim([2, 40.3])\n",
    "plt.ylim([-12, 1.2])\n",
    "plt.xlabel('Size of Neighbourhood (k)')\n",
    "plt.ylabel('Accuracy')\n",
    "plt.title('KNN Sex Classification With Multiple Datasets')\n",
    "lgd = plt.legend(('Chance', 'LOO-Scan', 'LOO-Subject', 'LOO-Dataset',\n",
    "                  'LOO-Dataset (-CM)', 'LOO-Dataset (-PM-CM)', 'LOO-Dataset (UN)'),\n",
    "                 fontsize=16, bbox_to_anchor = (1.5, 1))\n",
    "plt.tight_layout(1)\n",
    "plt.savefig('../../figs/graphs/regression/knn_regress_desikan.png',\n",
    "            bbox_extra_artists=(lgd,), bbox_inches='tight')\n",
    "plt.show()"
   ]
  },
  {
   "cell_type": "code",
   "execution_count": null,
   "metadata": {
    "collapsed": false
   },
   "outputs": [],
   "source": []
  },
  {
   "cell_type": "markdown",
   "metadata": {},
   "source": [
    "-------\n",
    "\n",
    "-------\n",
    "\n",
    "## Semipar\n",
    "- select corpus of graphs\n",
    "- for all:\n",
    "    - compute svd\n",
    "    - pass singular vector to get_elbow function\n",
    "    - store 2nd elbow\n",
    "- set d to median 2nd elbow\n",
    "- do pca on graphs, keep top d dimensions\n",
    "- cluster graphs with knn, using procrustes distance as distance metric"
   ]
  },
  {
   "cell_type": "code",
   "execution_count": 62,
   "metadata": {
    "collapsed": false
   },
   "outputs": [
    {
     "data": {
      "text/plain": [
       "<sklearn.neighbors.dist_metrics.PyFuncDistance at 0x123e46758>"
      ]
     },
     "execution_count": 62,
     "metadata": {},
     "output_type": "execute_result"
    }
   ],
   "source": [
    "def myd(x, y):\n",
    "    return sum(np.abs(x - y) / (np.abs(x) + np.abs(y)))\n",
    "\n",
    "knn_sp = OrderedDict()\n",
    "dims = 20\n",
    "\n",
    "for i in neighbourhoods:\n",
    "    classif = KNeighborsClassifier(i, metric=myd)\n",
    "    tmp = np.array(())\n",
    "    for idx, dset in enumerate(dataset_names):\n",
    "        ind = np.array([dset == d for d in dats])\n",
    "        ft_train = feat[ind < 1] # current dataset is test\n",
    "        ft_test = feat[ind >= 1] # all others are train\n",
    "        sx_train = sexy[ind < 1]\n",
    "        sx_test = sexy[ind >= 1]\n",
    "\n",
    "        # take SVD and rotate data\n",
    "        u, s, vh = svd(ft_train)\n",
    "        ft_train_t = np.dot(u,np.diag(s))[:, 0:dims]\n",
    "        classif.fit(ft_train_t, sx_train)\n",
    "\n",
    "        ft_test_t = np.dot(ft_test, vh)[:, 0:dims]\n",
    "        score = classif.score(ft_test_t, sx_test)\n",
    "        tmp = np.append(tmp, score)\n",
    "\n",
    "#         print \"~~~~~~~~~~~~\"\n",
    "#         print \"Left out dataset: %s\" % (dset)\n",
    "#         print \"Train: %d ; Test: %d\" % (sx_train.shape[0], sx_test.shape[0])\n",
    "#         print \"Chance: %0.5f (%0.5f)\" % (sum(sx_test)/len(sx_test), 1-sum(sx_test)/len(sx_test)) \n",
    "#         print \"Classification Accuracy: %.5f (%0.5f)\" % (score, 1-score)\n",
    "    knn_sp[i] = tmp\n",
    "\n",
    "knn_loo_dset_pcax = np.array(())\n",
    "knn_loo_dset_pcay = np.array(())\n",
    "for i in neighbourhoods:\n",
    "    knn_loo_dset_pcax = np.append(knn_loo_dset_pcax, np.repeat(i, len(dataset_names))+1*np.random.rand(len(dataset_names)))\n",
    "    knn_loo_dset_pcay = np.append(knn_loo_dset_pcay, knn[i])\n",
    "\n",
    "DistanceMetric.get_metric('pyfunc', func=myd)"
   ]
  },
  {
   "cell_type": "code",
   "execution_count": 58,
   "metadata": {
    "collapsed": false
   },
   "outputs": [
    {
     "name": "stdout",
     "output_type": "stream",
     "text": [
      "25737\n"
     ]
    }
   ],
   "source": [
    "import random\n",
    "\n",
    "elbows = np.array(())\n",
    "\n",
    "print random.choice(sbjs)"
   ]
  },
  {
   "cell_type": "markdown",
   "metadata": {
    "collapsed": true
   },
   "source": [
    "```\n",
    "getElbows <- function(dat, n = 3, threshold = FALSE, plot = TRUE) {\n",
    "  if (is.matrix(dat)) {\n",
    "      d <- sort(apply(dat,2,sd), decreasing=TRUE)\n",
    "  } else {\n",
    "      d <- sort(dat,decreasing=TRUE)\n",
    "  }\n",
    "\n",
    "  if (!is.logical(threshold))\n",
    "      d <- d[d > threshold]\n",
    "  \n",
    "  p <- length(d)\n",
    "  if (p == 0)\n",
    "      stop(paste(\"d must have elements that are larger than the threshold \",\n",
    "                 threshold), \"!\", sep=\"\")\n",
    "\n",
    "  lq <- rep(0.0, p)                     # log likelihood, function of q\n",
    "  for (q in 1:p) {\n",
    "      mu1 <- mean(d[1:q])\n",
    "      mu2 <- mean(d[-(1:q)])              # = NaN when q = p\n",
    "      sigma2 <- (sum((d[1:q] - mu1)^2) + sum((d[-(1:q)] - mu2)^2)) /\n",
    "          (p - 1 - (q < p))\n",
    "      lq[q] <- sum( dnorm(  d[1:q ], mu1, sqrt(sigma2), log=TRUE) ) +\n",
    "          sum( dnorm(d[-(1:q)], mu2, sqrt(sigma2), log=TRUE) )\n",
    "  }\n",
    "  \n",
    "  q <- which.max(lq)\n",
    "  if (n > 1 && q < (p-1)) {\n",
    "      q <- c(q, q + getElbows(d[(q+1):p], n-1, plot=FALSE))\n",
    "  }\n",
    "  \n",
    "  if (plot==TRUE) {\n",
    "      if (is.matrix(dat)) {\n",
    "          sdv <- d # apply(dat,2,sd)\n",
    "          plot(sdv,type=\"b\",xlab=\"dim\",ylab=\"stdev\")\n",
    "          points(q,sdv[q],col=2,pch=19)\n",
    "      } else {\n",
    "          plot(dat, type=\"b\")\n",
    "          points(q,dat[q],col=2,pch=19)\n",
    "      }\n",
    "  }\n",
    "  \n",
    "  return(q)\n",
    "}\n",
    "```"
   ]
  },
  {
   "cell_type": "code",
   "execution_count": null,
   "metadata": {
    "collapsed": true
   },
   "outputs": [],
   "source": []
  }
 ],
 "metadata": {
  "kernelspec": {
   "display_name": "Python 2",
   "language": "python",
   "name": "python2"
  },
  "language_info": {
   "codemirror_mode": {
    "name": "ipython",
    "version": 2
   },
   "file_extension": ".py",
   "mimetype": "text/x-python",
   "name": "python",
   "nbconvert_exporter": "python",
   "pygments_lexer": "ipython2",
   "version": "2.7.11"
  }
 },
 "nbformat": 4,
 "nbformat_minor": 0
}
